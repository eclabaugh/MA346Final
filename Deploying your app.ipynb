{
 "cells": [
  {
   "cell_type": "markdown",
   "source": "# Deploying your Streamlit app from this project\n\nThis assumes you've already created an app.  If you haven't, see the \"Creating and testing your app\" notebook in this repository.\n\n## How to get started:\n\n1. Create a new repository in your GitHub account on the web.\n2. Copy the URL for that new repository (e.g., `https://github.com/YOUR-USERNAME/YOUR-PROJECT-NAME.git`).\n3. Open the GitHub integration in this Deepnote project, by clicking the GitHub icon on the left of this window.\n4. Paste your project's URL into the text box there and click the button to link this project with your GitHub repository.\n5. This will ask you to permit the Deepnote app to connect to your GitHub account, and you will need to authorize that.  After doing so, you may need to repeat step 4 again to complete the process.\n6. Check to be sure there is a new folder in this Deepnote project, named for your GitHub repo.  If you see that folder, you know that you completed the above steps correctly.\n7. Edit the cell below and replace `put-your-folder-name-here` with the name of that newly-created folder.  Be careful to get the spelling and capitalization exactly correct.",
   "metadata": {
    "cell_id": "ac5bea4a5bd449fe86da1b47aa414b4e",
    "tags": [],
    "deepnote_cell_type": "markdown",
    "deepnote_cell_height": 610.25
   }
  },
  {
   "cell_type": "code",
   "metadata": {
    "cell_id": "c5d8709bdebe4f1f9979279ab21ceff8",
    "tags": [],
    "deepnote_to_be_reexecuted": false,
    "source_hash": "5e39ca1d",
    "execution_start": 1648133519866,
    "execution_millis": 7,
    "output_cleared": true,
    "deepnote_cell_type": "code",
    "deepnote_cell_height": 99
   },
   "source": "# This records the name of your git folder for use in code later in this notebook.\n%env PROJECT_FOLDER put-your-folder-name-here",
   "execution_count": null,
   "outputs": []
  },
  {
   "cell_type": "markdown",
   "source": "## How to sync Deepnote with GitHub:\n\n1. Edit the cell below to provide a description of your most recent changes; this will be the git commit message.\n2. Run that cell to copy the latest version of all your Streamlit app files into that folder, commit all changes, and push them to GitHub.",
   "metadata": {
    "cell_id": "034538806867456b972fd28268fc3fd0",
    "tags": [],
    "deepnote_to_be_reexecuted": false,
    "source_hash": "b4866301",
    "execution_start": 1648127563155,
    "execution_millis": 294,
    "deepnote_cell_type": "markdown",
    "deepnote_cell_height": 192.5625
   }
  },
  {
   "cell_type": "code",
   "metadata": {
    "cell_id": "bdb24b910c2247eb8c3dbf01f134d1a9",
    "tags": [],
    "deepnote_to_be_reexecuted": false,
    "source_hash": "532256b4",
    "execution_start": 1648133519914,
    "execution_millis": 3949,
    "output_cleared": true,
    "deepnote_cell_type": "code",
    "deepnote_cell_height": 153
   },
   "source": "# This copies the latest version of all your files into the folder for syncing with GitHub:\n!cp ../*.* \"../$PROJECT_FOLDER/\"\n\n# This commits those changes and pushes them to GitHub:\n!cd \"../$PROJECT_FOLDER/\" && git add -A && git commit -m 'REPLACE THIS WITH YOUR COMMIT MESSAGE' && git push",
   "execution_count": null,
   "outputs": []
  },
  {
   "cell_type": "markdown",
   "source": "## How to sync GitHub with Streamlit Cloud:\n\nFollow [Streamlit's instructions for deploying an app from a GitHub repository](https://docs.streamlit.io/streamlit-cloud/get-started/deploy-an-app).  (I suggest logging in to Streamlit using your GitHub credentials, to make this connection even easier.)",
   "metadata": {
    "cell_id": "017f31fb2e194540946c85f572a6a677",
    "tags": [],
    "deepnote_cell_type": "markdown",
    "deepnote_cell_height": 130.78125
   }
  },
  {
   "cell_type": "markdown",
   "source": "<a style='text-decoration:none;line-height:16px;display:flex;color:#5B5B62;padding:10px;justify-content:end;' href='https://deepnote.com?utm_source=created-in-deepnote-cell&projectId=9656ae0b-cd0c-4892-85eb-8dad58241404' target=\"_blank\">\n<img alt='Created in deepnote.com' style='display:inline;max-height:16px;margin:0px;margin-right:7.5px;' src='data:image/svg+xml;base64,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' > </img>\nCreated in <span style='font-weight:600;margin-left:4px;'>Deepnote</span></a>",
   "metadata": {
    "tags": [],
    "created_in_deepnote_cell": true,
    "deepnote_cell_type": "markdown"
   }
  }
 ],
 "nbformat": 4,
 "nbformat_minor": 2,
 "metadata": {
  "orig_nbformat": 2,
  "deepnote": {
   "is_reactive": false
  },
  "deepnote_notebook_id": "6f3338ad-72f7-4c46-ab48-1bf1e321d0a1",
  "deepnote_execution_queue": []
 }
}