{
 "cells": [
  {
   "cell_type": "code",
   "metadata": {
    "tags": [],
    "cell_id": "6635375b-1ff4-42ef-bcfc-8b37c8b02927",
    "deepnote_to_be_reexecuted": false,
    "source_hash": "42e8a70d",
    "execution_start": 1651082400892,
    "execution_millis": 301,
    "deepnote_cell_type": "code",
    "deepnote_cell_height": 670.65625,
    "deepnote_output_heights": [
     382.1875
    ]
   },
   "source": "import pandas as pd\n\ngames = pd.read_csv('games.csv')\ngames",
   "outputs": [
    {
     "output_type": "execute_result",
     "execution_count": 1,
     "data": {
      "application/vnd.deepnote.dataframe.v3+json": {
       "column_count": 34,
       "row_count": 9191,
       "columns": [
        {
         "name": "Unnamed: 0",
         "dtype": "int64",
         "stats": {
          "unique_count": 9191,
          "nan_count": 0,
          "min": "4040",
          "max": "13230",
          "histogram": [
           {
            "bin_start": 4040,
            "bin_end": 4959,
            "count": 919
           },
           {
            "bin_start": 4959,
            "bin_end": 5878,
            "count": 919
           },
           {
            "bin_start": 5878,
            "bin_end": 6797,
            "count": 919
           },
           {
            "bin_start": 6797,
            "bin_end": 7716,
            "count": 919
           },
           {
            "bin_start": 7716,
            "bin_end": 8635,
            "count": 919
           },
           {
            "bin_start": 8635,
            "bin_end": 9554,
            "count": 919
           },
           {
            "bin_start": 9554,
            "bin_end": 10473,
            "count": 919
           },
           {
            "bin_start": 10473,
            "bin_end": 11392,
            "count": 919
           },
           {
            "bin_start": 11392,
            "bin_end": 12311,
            "count": 919
           },
           {
            "bin_start": 12311,
            "bin_end": 13230,
            "count": 920
           }
          ]
         }
        },
        {
         "name": "schedule_date",
         "dtype": "object",
         "stats": {
          "unique_count": 1736,
          "nan_count": 0,
          "categories": [
           {
            "name": "1/2/2005",
            "count": 16
           },
           {
            "name": "12/28/2008",
            "count": 16
           },
           {
            "name": "1734 others",
            "count": 9159
           }
          ]
         }
        },
        {
         "name": "schedule_season",
         "dtype": "int64",
         "stats": {
          "unique_count": 36,
          "nan_count": 0,
          "min": "1986",
          "max": "2021",
          "histogram": [
           {
            "bin_start": 1986,
            "bin_end": 1989.5,
            "count": 876
           },
           {
            "bin_start": 1989.5,
            "bin_end": 1993,
            "count": 705
           },
           {
            "bin_start": 1993,
            "bin_end": 1996.5,
            "count": 972
           },
           {
            "bin_start": 1996.5,
            "bin_end": 2000,
            "count": 761
           },
           {
            "bin_start": 2000,
            "bin_end": 2003.5,
            "count": 1052
           },
           {
            "bin_start": 2003.5,
            "bin_end": 2007,
            "count": 801
           },
           {
            "bin_start": 2007,
            "bin_end": 2010.5,
            "count": 1068
           },
           {
            "bin_start": 2010.5,
            "bin_end": 2014,
            "count": 801
           },
           {
            "bin_start": 2014,
            "bin_end": 2017.5,
            "count": 1068
           },
           {
            "bin_start": 2017.5,
            "bin_end": 2021,
            "count": 1087
           }
          ]
         }
        },
        {
         "name": "schedule_week",
         "dtype": "object",
         "stats": {
          "unique_count": 24,
          "nan_count": 0,
          "categories": [
           {
            "name": "15",
            "count": 551
           },
           {
            "name": "16",
            "count": 551
           },
           {
            "name": "22 others",
            "count": 8089
           }
          ]
         }
        },
        {
         "name": "schedule_playoff",
         "dtype": "bool",
         "stats": {
          "unique_count": 2,
          "nan_count": 0,
          "categories": [
           {
            "name": "False",
            "count": 8800
           },
           {
            "name": "True",
            "count": 391
           }
          ]
         }
        },
        {
         "name": "team_home",
         "dtype": "object",
         "stats": {
          "unique_count": 41,
          "nan_count": 0,
          "categories": [
           {
            "name": "New England Patriots",
            "count": 320
           },
           {
            "name": "San Francisco 49ers",
            "count": 312
           },
           {
            "name": "39 others",
            "count": 8559
           }
          ]
         }
        },
        {
         "name": "score_home",
         "dtype": "float64",
         "stats": {
          "unique_count": 60,
          "nan_count": 0,
          "min": "0.0",
          "max": "62.0",
          "histogram": [
           {
            "bin_start": 0,
            "bin_end": 6.2,
            "count": 435
           },
           {
            "bin_start": 6.2,
            "bin_end": 12.4,
            "count": 901
           },
           {
            "bin_start": 12.4,
            "bin_end": 18.6,
            "count": 1849
           },
           {
            "bin_start": 18.6,
            "bin_end": 24.8,
            "count": 2370
           },
           {
            "bin_start": 24.8,
            "bin_end": 31,
            "count": 1526
           },
           {
            "bin_start": 31,
            "bin_end": 37.2,
            "count": 1292
           },
           {
            "bin_start": 37.2,
            "bin_end": 43.4,
            "count": 521
           },
           {
            "bin_start": 43.4,
            "bin_end": 49.6,
            "count": 219
           },
           {
            "bin_start": 49.6,
            "bin_end": 55.800000000000004,
            "count": 57
           },
           {
            "bin_start": 55.800000000000004,
            "bin_end": 62,
            "count": 21
           }
          ]
         }
        },
        {
         "name": "score_away",
         "dtype": "float64",
         "stats": {
          "unique_count": 55,
          "nan_count": 0,
          "min": "0.0",
          "max": "59.0",
          "histogram": [
           {
            "bin_start": 0,
            "bin_end": 5.9,
            "count": 482
           },
           {
            "bin_start": 5.9,
            "bin_end": 11.8,
            "count": 1412
           },
           {
            "bin_start": 11.8,
            "bin_end": 17.700000000000003,
            "count": 2208
           },
           {
            "bin_start": 17.700000000000003,
            "bin_end": 23.6,
            "count": 1736
           },
           {
            "bin_start": 23.6,
            "bin_end": 29.5,
            "count": 1605
           },
           {
            "bin_start": 29.5,
            "bin_end": 35.400000000000006,
            "count": 1095
           },
           {
            "bin_start": 35.400000000000006,
            "bin_end": 41.300000000000004,
            "count": 459
           },
           {
            "bin_start": 41.300000000000004,
            "bin_end": 47.2,
            "count": 141
           },
           {
            "bin_start": 47.2,
            "bin_end": 53.1,
            "count": 44
           },
           {
            "bin_start": 53.1,
            "bin_end": 59,
            "count": 9
           }
          ]
         }
        },
        {
         "name": "team_away",
         "dtype": "object",
         "stats": {
          "unique_count": 41,
          "nan_count": 0,
          "categories": [
           {
            "name": "Green Bay Packers",
            "count": 307
           },
           {
            "name": "Indianapolis Colts",
            "count": 304
           },
           {
            "name": "39 others",
            "count": 8580
           }
          ]
         }
        },
        {
         "name": "team_favorite_id",
         "dtype": "object",
         "stats": {
          "unique_count": 33,
          "nan_count": 0,
          "categories": [
           {
            "name": "NE",
            "count": 408
           },
           {
            "name": "PIT",
            "count": 386
           },
           {
            "name": "31 others",
            "count": 8397
           }
          ]
         }
        },
        {
         "name": "spread_favorite",
         "dtype": "float64"
        },
        {
         "name": "over_under_line",
         "dtype": "float64"
        },
        {
         "name": "stadium",
         "dtype": "object"
        },
        {
         "name": "stadium_neutral",
         "dtype": "bool"
        },
        {
         "name": "weather_temperature",
         "dtype": "float64"
        },
        {
         "name": "weather_wind_mph",
         "dtype": "float64"
        },
        {
         "name": "weather_humidity",
         "dtype": "float64"
        },
        {
         "name": "weather_detail",
         "dtype": "object"
        },
        {
         "name": "total_points",
         "dtype": "float64"
        },
        {
         "name": "over_under_result",
         "dtype": "object"
        },
        {
         "name": "home_id",
         "dtype": "object"
        },
        {
         "name": "away_id",
         "dtype": "object"
        },
        {
         "name": "underdog_team_id",
         "dtype": "object"
        },
        {
         "name": "winning_team",
         "dtype": "object"
        },
        {
         "name": "losing_team",
         "dtype": "object"
        },
        {
         "name": "tying_team_home",
         "dtype": "object"
        },
        {
         "name": "tying_team_away",
         "dtype": "object"
        },
        {
         "name": "fav_or_dog_won",
         "dtype": "object"
        },
        {
         "name": "margin_of_victory",
         "dtype": "float64"
        },
        {
         "name": "spread_result",
         "dtype": "object"
        },
        {
         "name": "spread_winner",
         "dtype": "object"
        },
        {
         "name": "spread_loser",
         "dtype": "object"
        },
        {
         "name": "push_team_home",
         "dtype": "object"
        },
        {
         "name": "push_team_away",
         "dtype": "object"
        },
        {
         "name": "_deepnote_index_column",
         "dtype": "int64"
        }
       ],
       "rows": [
        {
         "Unnamed: 0": 4040,
         "schedule_date": "9/7/1986",
         "schedule_season": 1986,
         "schedule_week": "1",
         "schedule_playoff": false,
         "team_home": "Buffalo Bills",
         "score_home": 24,
         "score_away": 28,
         "team_away": "New York Jets",
         "team_favorite_id": "NYJ",
         "spread_favorite": -6,
         "over_under_line": 40,
         "stadium": "Ralph Wilson Stadium",
         "stadium_neutral": false,
         "weather_temperature": 56,
         "weather_wind_mph": 12,
         "weather_humidity": 61,
         "weather_detail": "nan",
         "total_points": 52,
         "over_under_result": "over",
         "home_id": "BUF",
         "away_id": "NYJ",
         "underdog_team_id": "BUF",
         "winning_team": "NYJ",
         "losing_team": "BUF",
         "tying_team_home": "nan",
         "tying_team_away": "nan",
         "fav_or_dog_won": "fav",
         "margin_of_victory": 4,
         "spread_result": "dog",
         "spread_winner": "BUF",
         "spread_loser": "NYJ",
         "push_team_home": "nan",
         "push_team_away": "nan",
         "_deepnote_index_column": 0
        },
        {
         "Unnamed: 0": 4041,
         "schedule_date": "9/7/1986",
         "schedule_season": 1986,
         "schedule_week": "1",
         "schedule_playoff": false,
         "team_home": "Chicago Bears",
         "score_home": 41,
         "score_away": 31,
         "team_away": "Cleveland Browns",
         "team_favorite_id": "CHI",
         "spread_favorite": -10.5,
         "over_under_line": 38,
         "stadium": "Soldier Field",
         "stadium_neutral": false,
         "weather_temperature": 55,
         "weather_wind_mph": 9,
         "weather_humidity": 56,
         "weather_detail": "nan",
         "total_points": 72,
         "over_under_result": "over",
         "home_id": "CHI",
         "away_id": "CLE",
         "underdog_team_id": "CLE",
         "winning_team": "CHI",
         "losing_team": "CLE",
         "tying_team_home": "nan",
         "tying_team_away": "nan",
         "fav_or_dog_won": "fav",
         "margin_of_victory": 10,
         "spread_result": "dog",
         "spread_winner": "CLE",
         "spread_loser": "CHI",
         "push_team_home": "nan",
         "push_team_away": "nan",
         "_deepnote_index_column": 1
        },
        {
         "Unnamed: 0": 4042,
         "schedule_date": "9/7/1986",
         "schedule_season": 1986,
         "schedule_week": "1",
         "schedule_playoff": false,
         "team_home": "Denver Broncos",
         "score_home": 38,
         "score_away": 36,
         "team_away": "Los Angeles Raiders",
         "team_favorite_id": "DEN",
         "spread_favorite": -3,
         "over_under_line": 38.5,
         "stadium": "Mile High Stadium",
         "stadium_neutral": false,
         "weather_temperature": 49,
         "weather_wind_mph": 9,
         "weather_humidity": 81,
         "weather_detail": "nan",
         "total_points": 74,
         "over_under_result": "over",
         "home_id": "DEN",
         "away_id": "LVR",
         "underdog_team_id": "LVR",
         "winning_team": "DEN",
         "losing_team": "LVR",
         "tying_team_home": "nan",
         "tying_team_away": "nan",
         "fav_or_dog_won": "fav",
         "margin_of_victory": 2,
         "spread_result": "dog",
         "spread_winner": "LVR",
         "spread_loser": "DEN",
         "push_team_home": "nan",
         "push_team_away": "nan",
         "_deepnote_index_column": 2
        },
        {
         "Unnamed: 0": 4043,
         "schedule_date": "9/7/1986",
         "schedule_season": 1986,
         "schedule_week": "1",
         "schedule_playoff": false,
         "team_home": "Green Bay Packers",
         "score_home": 3,
         "score_away": 31,
         "team_away": "Houston Oilers",
         "team_favorite_id": "GB",
         "spread_favorite": -4,
         "over_under_line": 41.5,
         "stadium": "Lambeau Field",
         "stadium_neutral": false,
         "weather_temperature": 48,
         "weather_wind_mph": 7,
         "weather_humidity": 64,
         "weather_detail": "nan",
         "total_points": 34,
         "over_under_result": "under",
         "home_id": "GB",
         "away_id": "TEN",
         "underdog_team_id": "TEN",
         "winning_team": "TEN",
         "losing_team": "GB",
         "tying_team_home": "nan",
         "tying_team_away": "nan",
         "fav_or_dog_won": "dog",
         "margin_of_victory": 28,
         "spread_result": "dog",
         "spread_winner": "TEN",
         "spread_loser": "GB",
         "push_team_home": "nan",
         "push_team_away": "nan",
         "_deepnote_index_column": 3
        },
        {
         "Unnamed: 0": 4044,
         "schedule_date": "9/7/1986",
         "schedule_season": 1986,
         "schedule_week": "1",
         "schedule_playoff": false,
         "team_home": "Kansas City Chiefs",
         "score_home": 24,
         "score_away": 14,
         "team_away": "Cincinnati Bengals",
         "team_favorite_id": "CIN",
         "spread_favorite": -1,
         "over_under_line": 47,
         "stadium": "Arrowhead Stadium",
         "stadium_neutral": false,
         "weather_temperature": 56,
         "weather_wind_mph": 11,
         "weather_humidity": 75,
         "weather_detail": "nan",
         "total_points": 38,
         "over_under_result": "under",
         "home_id": "KC",
         "away_id": "CIN",
         "underdog_team_id": "KC",
         "winning_team": "KC",
         "losing_team": "CIN",
         "tying_team_home": "nan",
         "tying_team_away": "nan",
         "fav_or_dog_won": "dog",
         "margin_of_victory": 10,
         "spread_result": "dog",
         "spread_winner": "KC",
         "spread_loser": "CIN",
         "push_team_home": "nan",
         "push_team_away": "nan",
         "_deepnote_index_column": 4
        },
        {
         "Unnamed: 0": 4045,
         "schedule_date": "9/7/1986",
         "schedule_season": 1986,
         "schedule_week": "1",
         "schedule_playoff": false,
         "team_home": "Minnesota Vikings",
         "score_home": 10,
         "score_away": 13,
         "team_away": "Detroit Lions",
         "team_favorite_id": "MIN",
         "spread_favorite": -3.5,
         "over_under_line": 42.5,
         "stadium": "Hubert H. Humphrey Metrodome",
         "stadium_neutral": false,
         "weather_temperature": 72,
         "weather_wind_mph": 0,
         "weather_humidity": "nan",
         "weather_detail": "DOME",
         "total_points": 23,
         "over_under_result": "under",
         "home_id": "MIN",
         "away_id": "DET",
         "underdog_team_id": "DET",
         "winning_team": "DET",
         "losing_team": "MIN",
         "tying_team_home": "nan",
         "tying_team_away": "nan",
         "fav_or_dog_won": "dog",
         "margin_of_victory": 3,
         "spread_result": "dog",
         "spread_winner": "DET",
         "spread_loser": "MIN",
         "push_team_home": "nan",
         "push_team_away": "nan",
         "_deepnote_index_column": 5
        },
        {
         "Unnamed: 0": 4046,
         "schedule_date": "9/7/1986",
         "schedule_season": 1986,
         "schedule_week": "1",
         "schedule_playoff": false,
         "team_home": "New England Patriots",
         "score_home": 33,
         "score_away": 3,
         "team_away": "Indianapolis Colts",
         "team_favorite_id": "NE",
         "spread_favorite": -9.5,
         "over_under_line": 42,
         "stadium": "Foxboro Stadium",
         "stadium_neutral": false,
         "weather_temperature": 65,
         "weather_wind_mph": 13,
         "weather_humidity": 54,
         "weather_detail": "nan",
         "total_points": 36,
         "over_under_result": "under",
         "home_id": "NE",
         "away_id": "IND",
         "underdog_team_id": "IND",
         "winning_team": "NE",
         "losing_team": "IND",
         "tying_team_home": "nan",
         "tying_team_away": "nan",
         "fav_or_dog_won": "fav",
         "margin_of_victory": 30,
         "spread_result": "fav",
         "spread_winner": "NE",
         "spread_loser": "IND",
         "push_team_home": "nan",
         "push_team_away": "nan",
         "_deepnote_index_column": 6
        },
        {
         "Unnamed: 0": 4047,
         "schedule_date": "9/7/1986",
         "schedule_season": 1986,
         "schedule_week": "1",
         "schedule_playoff": false,
         "team_home": "New Orleans Saints",
         "score_home": 10,
         "score_away": 31,
         "team_away": "Atlanta Falcons",
         "team_favorite_id": "NO",
         "spread_favorite": -3.5,
         "over_under_line": 41,
         "stadium": "Louisiana Superdome",
         "stadium_neutral": false,
         "weather_temperature": 72,
         "weather_wind_mph": 0,
         "weather_humidity": "nan",
         "weather_detail": "DOME",
         "total_points": 41,
         "over_under_result": "push",
         "home_id": "NO",
         "away_id": "ATL",
         "underdog_team_id": "ATL",
         "winning_team": "ATL",
         "losing_team": "NO",
         "tying_team_home": "nan",
         "tying_team_away": "nan",
         "fav_or_dog_won": "dog",
         "margin_of_victory": 21,
         "spread_result": "dog",
         "spread_winner": "ATL",
         "spread_loser": "NO",
         "push_team_home": "nan",
         "push_team_away": "nan",
         "_deepnote_index_column": 7
        },
        {
         "Unnamed: 0": 4048,
         "schedule_date": "9/7/1986",
         "schedule_season": 1986,
         "schedule_week": "1",
         "schedule_playoff": false,
         "team_home": "San Diego Chargers",
         "score_home": 50,
         "score_away": 28,
         "team_away": "Miami Dolphins",
         "team_favorite_id": "MIA",
         "spread_favorite": -1,
         "over_under_line": 56,
         "stadium": "Qualcomm Stadium",
         "stadium_neutral": false,
         "weather_temperature": 68,
         "weather_wind_mph": 9,
         "weather_humidity": 82,
         "weather_detail": "nan",
         "total_points": 78,
         "over_under_result": "over",
         "home_id": "LAC",
         "away_id": "MIA",
         "underdog_team_id": "LAC",
         "winning_team": "LAC",
         "losing_team": "MIA",
         "tying_team_home": "nan",
         "tying_team_away": "nan",
         "fav_or_dog_won": "dog",
         "margin_of_victory": 22,
         "spread_result": "dog",
         "spread_winner": "LAC",
         "spread_loser": "MIA",
         "push_team_home": "nan",
         "push_team_away": "nan",
         "_deepnote_index_column": 8
        },
        {
         "Unnamed: 0": 4049,
         "schedule_date": "9/7/1986",
         "schedule_season": 1986,
         "schedule_week": "1",
         "schedule_playoff": false,
         "team_home": "Seattle Seahawks",
         "score_home": 30,
         "score_away": 0,
         "team_away": "Pittsburgh Steelers",
         "team_favorite_id": "SEA",
         "spread_favorite": -6,
         "over_under_line": 42,
         "stadium": "Seattle Kingdome",
         "stadium_neutral": false,
         "weather_temperature": 72,
         "weather_wind_mph": 0,
         "weather_humidity": "nan",
         "weather_detail": "DOME",
         "total_points": 30,
         "over_under_result": "under",
         "home_id": "SEA",
         "away_id": "PIT",
         "underdog_team_id": "PIT",
         "winning_team": "SEA",
         "losing_team": "PIT",
         "tying_team_home": "nan",
         "tying_team_away": "nan",
         "fav_or_dog_won": "fav",
         "margin_of_victory": 30,
         "spread_result": "fav",
         "spread_winner": "SEA",
         "spread_loser": "PIT",
         "push_team_home": "nan",
         "push_team_away": "nan",
         "_deepnote_index_column": 9
        }
       ]
      },
      "text/plain": "      Unnamed: 0 schedule_date  schedule_season schedule_week  \\\n0           4040      9/7/1986             1986             1   \n1           4041      9/7/1986             1986             1   \n2           4042      9/7/1986             1986             1   \n3           4043      9/7/1986             1986             1   \n4           4044      9/7/1986             1986             1   \n...          ...           ...              ...           ...   \n9186       13226     1/22/2022             2021      Division   \n9187       13227     1/23/2022             2021      Division   \n9188       13228     1/23/2022             2021      Division   \n9189       13229     1/30/2022             2021    Conference   \n9190       13230     1/30/2022             2021    Conference   \n\n      schedule_playoff             team_home  score_home  score_away  \\\n0                False         Buffalo Bills        24.0        28.0   \n1                False         Chicago Bears        41.0        31.0   \n2                False        Denver Broncos        38.0        36.0   \n3                False     Green Bay Packers         3.0        31.0   \n4                False    Kansas City Chiefs        24.0        14.0   \n...                ...                   ...         ...         ...   \n9186              True      Tennessee Titans        16.0        19.0   \n9187              True    Kansas City Chiefs        42.0        36.0   \n9188              True  Tampa Bay Buccaneers        27.0        30.0   \n9189              True    Kansas City Chiefs        24.0        27.0   \n9190              True      Los Angeles Rams        20.0        17.0   \n\n                team_away team_favorite_id  ...  losing_team  tying_team_home  \\\n0           New York Jets              NYJ  ...          BUF              NaN   \n1        Cleveland Browns              CHI  ...          CLE              NaN   \n2     Los Angeles Raiders              DEN  ...          LVR              NaN   \n3          Houston Oilers               GB  ...           GB              NaN   \n4      Cincinnati Bengals              CIN  ...          CIN              NaN   \n...                   ...              ...  ...          ...              ...   \n9186   Cincinnati Bengals              TEN  ...          TEN              NaN   \n9187        Buffalo Bills               KC  ...          BUF              NaN   \n9188     Los Angeles Rams               TB  ...           TB              NaN   \n9189   Cincinnati Bengals               KC  ...           KC              NaN   \n9190  San Francisco 49ers              LAR  ...           SF              NaN   \n\n     tying_team_away  fav_or_dog_won  margin_of_victory  spread_result  \\\n0                NaN             fav                4.0            dog   \n1                NaN             fav               10.0            dog   \n2                NaN             fav                2.0            dog   \n3                NaN             dog               28.0            dog   \n4                NaN             dog               10.0            dog   \n...              ...             ...                ...            ...   \n9186             NaN             dog                3.0            dog   \n9187             NaN             fav                6.0            fav   \n9188             NaN             dog                3.0            dog   \n9189             NaN             dog                3.0            dog   \n9190             NaN             fav                3.0            dog   \n\n      spread_winner spread_loser  push_team_home push_team_away  \n0               BUF          NYJ             NaN            NaN  \n1               CLE          CHI             NaN            NaN  \n2               LVR          DEN             NaN            NaN  \n3               TEN           GB             NaN            NaN  \n4                KC          CIN             NaN            NaN  \n...             ...          ...             ...            ...  \n9186            CIN          TEN             NaN            NaN  \n9187             KC          BUF             NaN            NaN  \n9188            LAR           TB             NaN            NaN  \n9189            CIN           KC             NaN            NaN  \n9190             SF          LAR             NaN            NaN  \n\n[9191 rows x 34 columns]",
      "text/html": "<div>\n<style scoped>\n    .dataframe tbody tr th:only-of-type {\n        vertical-align: middle;\n    }\n\n    .dataframe tbody tr th {\n        vertical-align: top;\n    }\n\n    .dataframe thead th {\n        text-align: right;\n    }\n</style>\n<table border=\"1\" class=\"dataframe\">\n  <thead>\n    <tr style=\"text-align: right;\">\n      <th></th>\n      <th>Unnamed: 0</th>\n      <th>schedule_date</th>\n      <th>schedule_season</th>\n      <th>schedule_week</th>\n      <th>schedule_playoff</th>\n      <th>team_home</th>\n      <th>score_home</th>\n      <th>score_away</th>\n      <th>team_away</th>\n      <th>team_favorite_id</th>\n      <th>...</th>\n      <th>losing_team</th>\n      <th>tying_team_home</th>\n      <th>tying_team_away</th>\n      <th>fav_or_dog_won</th>\n      <th>margin_of_victory</th>\n      <th>spread_result</th>\n      <th>spread_winner</th>\n      <th>spread_loser</th>\n      <th>push_team_home</th>\n      <th>push_team_away</th>\n    </tr>\n  </thead>\n  <tbody>\n    <tr>\n      <th>0</th>\n      <td>4040</td>\n      <td>9/7/1986</td>\n      <td>1986</td>\n      <td>1</td>\n      <td>False</td>\n      <td>Buffalo Bills</td>\n      <td>24.0</td>\n      <td>28.0</td>\n      <td>New York Jets</td>\n      <td>NYJ</td>\n      <td>...</td>\n      <td>BUF</td>\n      <td>NaN</td>\n      <td>NaN</td>\n      <td>fav</td>\n      <td>4.0</td>\n      <td>dog</td>\n      <td>BUF</td>\n      <td>NYJ</td>\n      <td>NaN</td>\n      <td>NaN</td>\n    </tr>\n    <tr>\n      <th>1</th>\n      <td>4041</td>\n      <td>9/7/1986</td>\n      <td>1986</td>\n      <td>1</td>\n      <td>False</td>\n      <td>Chicago Bears</td>\n      <td>41.0</td>\n      <td>31.0</td>\n      <td>Cleveland Browns</td>\n      <td>CHI</td>\n      <td>...</td>\n      <td>CLE</td>\n      <td>NaN</td>\n      <td>NaN</td>\n      <td>fav</td>\n      <td>10.0</td>\n      <td>dog</td>\n      <td>CLE</td>\n      <td>CHI</td>\n      <td>NaN</td>\n      <td>NaN</td>\n    </tr>\n    <tr>\n      <th>2</th>\n      <td>4042</td>\n      <td>9/7/1986</td>\n      <td>1986</td>\n      <td>1</td>\n      <td>False</td>\n      <td>Denver Broncos</td>\n      <td>38.0</td>\n      <td>36.0</td>\n      <td>Los Angeles Raiders</td>\n      <td>DEN</td>\n      <td>...</td>\n      <td>LVR</td>\n      <td>NaN</td>\n      <td>NaN</td>\n      <td>fav</td>\n      <td>2.0</td>\n      <td>dog</td>\n      <td>LVR</td>\n      <td>DEN</td>\n      <td>NaN</td>\n      <td>NaN</td>\n    </tr>\n    <tr>\n      <th>3</th>\n      <td>4043</td>\n      <td>9/7/1986</td>\n      <td>1986</td>\n      <td>1</td>\n      <td>False</td>\n      <td>Green Bay Packers</td>\n      <td>3.0</td>\n      <td>31.0</td>\n      <td>Houston Oilers</td>\n      <td>GB</td>\n      <td>...</td>\n      <td>GB</td>\n      <td>NaN</td>\n      <td>NaN</td>\n      <td>dog</td>\n      <td>28.0</td>\n      <td>dog</td>\n      <td>TEN</td>\n      <td>GB</td>\n      <td>NaN</td>\n      <td>NaN</td>\n    </tr>\n    <tr>\n      <th>4</th>\n      <td>4044</td>\n      <td>9/7/1986</td>\n      <td>1986</td>\n      <td>1</td>\n      <td>False</td>\n      <td>Kansas City Chiefs</td>\n      <td>24.0</td>\n      <td>14.0</td>\n      <td>Cincinnati Bengals</td>\n      <td>CIN</td>\n      <td>...</td>\n      <td>CIN</td>\n      <td>NaN</td>\n      <td>NaN</td>\n      <td>dog</td>\n      <td>10.0</td>\n      <td>dog</td>\n      <td>KC</td>\n      <td>CIN</td>\n      <td>NaN</td>\n      <td>NaN</td>\n    </tr>\n    <tr>\n      <th>...</th>\n      <td>...</td>\n      <td>...</td>\n      <td>...</td>\n      <td>...</td>\n      <td>...</td>\n      <td>...</td>\n      <td>...</td>\n      <td>...</td>\n      <td>...</td>\n      <td>...</td>\n      <td>...</td>\n      <td>...</td>\n      <td>...</td>\n      <td>...</td>\n      <td>...</td>\n      <td>...</td>\n      <td>...</td>\n      <td>...</td>\n      <td>...</td>\n      <td>...</td>\n      <td>...</td>\n    </tr>\n    <tr>\n      <th>9186</th>\n      <td>13226</td>\n      <td>1/22/2022</td>\n      <td>2021</td>\n      <td>Division</td>\n      <td>True</td>\n      <td>Tennessee Titans</td>\n      <td>16.0</td>\n      <td>19.0</td>\n      <td>Cincinnati Bengals</td>\n      <td>TEN</td>\n      <td>...</td>\n      <td>TEN</td>\n      <td>NaN</td>\n      <td>NaN</td>\n      <td>dog</td>\n      <td>3.0</td>\n      <td>dog</td>\n      <td>CIN</td>\n      <td>TEN</td>\n      <td>NaN</td>\n      <td>NaN</td>\n    </tr>\n    <tr>\n      <th>9187</th>\n      <td>13227</td>\n      <td>1/23/2022</td>\n      <td>2021</td>\n      <td>Division</td>\n      <td>True</td>\n      <td>Kansas City Chiefs</td>\n      <td>42.0</td>\n      <td>36.0</td>\n      <td>Buffalo Bills</td>\n      <td>KC</td>\n      <td>...</td>\n      <td>BUF</td>\n      <td>NaN</td>\n      <td>NaN</td>\n      <td>fav</td>\n      <td>6.0</td>\n      <td>fav</td>\n      <td>KC</td>\n      <td>BUF</td>\n      <td>NaN</td>\n      <td>NaN</td>\n    </tr>\n    <tr>\n      <th>9188</th>\n      <td>13228</td>\n      <td>1/23/2022</td>\n      <td>2021</td>\n      <td>Division</td>\n      <td>True</td>\n      <td>Tampa Bay Buccaneers</td>\n      <td>27.0</td>\n      <td>30.0</td>\n      <td>Los Angeles Rams</td>\n      <td>TB</td>\n      <td>...</td>\n      <td>TB</td>\n      <td>NaN</td>\n      <td>NaN</td>\n      <td>dog</td>\n      <td>3.0</td>\n      <td>dog</td>\n      <td>LAR</td>\n      <td>TB</td>\n      <td>NaN</td>\n      <td>NaN</td>\n    </tr>\n    <tr>\n      <th>9189</th>\n      <td>13229</td>\n      <td>1/30/2022</td>\n      <td>2021</td>\n      <td>Conference</td>\n      <td>True</td>\n      <td>Kansas City Chiefs</td>\n      <td>24.0</td>\n      <td>27.0</td>\n      <td>Cincinnati Bengals</td>\n      <td>KC</td>\n      <td>...</td>\n      <td>KC</td>\n      <td>NaN</td>\n      <td>NaN</td>\n      <td>dog</td>\n      <td>3.0</td>\n      <td>dog</td>\n      <td>CIN</td>\n      <td>KC</td>\n      <td>NaN</td>\n      <td>NaN</td>\n    </tr>\n    <tr>\n      <th>9190</th>\n      <td>13230</td>\n      <td>1/30/2022</td>\n      <td>2021</td>\n      <td>Conference</td>\n      <td>True</td>\n      <td>Los Angeles Rams</td>\n      <td>20.0</td>\n      <td>17.0</td>\n      <td>San Francisco 49ers</td>\n      <td>LAR</td>\n      <td>...</td>\n      <td>SF</td>\n      <td>NaN</td>\n      <td>NaN</td>\n      <td>fav</td>\n      <td>3.0</td>\n      <td>dog</td>\n      <td>SF</td>\n      <td>LAR</td>\n      <td>NaN</td>\n      <td>NaN</td>\n    </tr>\n  </tbody>\n</table>\n<p>9191 rows × 34 columns</p>\n</div>"
     },
     "metadata": {}
    }
   ],
   "execution_count": null
  },
  {
   "cell_type": "markdown",
   "source": "## Regression model to predict over/under line and total points\n\nsubset data into DF containing only o/u line, total points, and three weather data columns",
   "metadata": {
    "cell_id": "faf48b39307d462eb1c9bea65cad6613",
    "tags": [],
    "deepnote_cell_type": "markdown",
    "deepnote_cell_height": 148.390625
   }
  },
  {
   "cell_type": "code",
   "metadata": {
    "cell_id": "c4ef77cef1874a07ad243317dc9e76f0",
    "tags": [],
    "deepnote_to_be_reexecuted": false,
    "source_hash": "806207bc",
    "execution_start": 1651082401224,
    "execution_millis": 70,
    "deepnote_cell_type": "code",
    "deepnote_cell_height": 634.65625
   },
   "source": "weather = games[['over_under_line', 'total_points', 'weather_temperature', 'weather_wind_mph', 'weather_detail']]\nweather",
   "outputs": [
    {
     "output_type": "execute_result",
     "execution_count": 2,
     "data": {
      "application/vnd.deepnote.dataframe.v3+json": {
       "column_count": 5,
       "row_count": 9191,
       "columns": [
        {
         "name": "over_under_line",
         "dtype": "float64",
         "stats": {
          "unique_count": 67,
          "nan_count": 0,
          "min": "28.0",
          "max": "63.5",
          "histogram": [
           {
            "bin_start": 28,
            "bin_end": 31.55,
            "count": 24
           },
           {
            "bin_start": 31.55,
            "bin_end": 35.1,
            "count": 532
           },
           {
            "bin_start": 35.1,
            "bin_end": 38.65,
            "count": 1751
           },
           {
            "bin_start": 38.65,
            "bin_end": 42.2,
            "count": 2386
           },
           {
            "bin_start": 42.2,
            "bin_end": 45.75,
            "count": 2323
           },
           {
            "bin_start": 45.75,
            "bin_end": 49.3,
            "count": 1410
           },
           {
            "bin_start": 49.3,
            "bin_end": 52.849999999999994,
            "count": 489
           },
           {
            "bin_start": 52.849999999999994,
            "bin_end": 56.4,
            "count": 230
           },
           {
            "bin_start": 56.4,
            "bin_end": 59.95,
            "count": 41
           },
           {
            "bin_start": 59.95,
            "bin_end": 63.5,
            "count": 5
           }
          ]
         }
        },
        {
         "name": "total_points",
         "dtype": "float64",
         "stats": {
          "unique_count": 92,
          "nan_count": 0,
          "min": "3.0",
          "max": "106.0",
          "histogram": [
           {
            "bin_start": 3,
            "bin_end": 13.3,
            "count": 85
           },
           {
            "bin_start": 13.3,
            "bin_end": 23.6,
            "count": 676
           },
           {
            "bin_start": 23.6,
            "bin_end": 33.900000000000006,
            "count": 1678
           },
           {
            "bin_start": 33.900000000000006,
            "bin_end": 44.2,
            "count": 2777
           },
           {
            "bin_start": 44.2,
            "bin_end": 54.5,
            "count": 2108
           },
           {
            "bin_start": 54.5,
            "bin_end": 64.80000000000001,
            "count": 1144
           },
           {
            "bin_start": 64.80000000000001,
            "bin_end": 75.10000000000001,
            "count": 560
           },
           {
            "bin_start": 75.10000000000001,
            "bin_end": 85.4,
            "count": 128
           },
           {
            "bin_start": 85.4,
            "bin_end": 95.7,
            "count": 28
           },
           {
            "bin_start": 95.7,
            "bin_end": 106,
            "count": 7
           }
          ]
         }
        },
        {
         "name": "weather_temperature",
         "dtype": "float64",
         "stats": {
          "unique_count": 98,
          "nan_count": 755,
          "min": "-6.0",
          "max": "97.0",
          "histogram": [
           {
            "bin_start": -6,
            "bin_end": 4.300000000000001,
            "count": 8
           },
           {
            "bin_start": 4.300000000000001,
            "bin_end": 14.600000000000001,
            "count": 44
           },
           {
            "bin_start": 14.600000000000001,
            "bin_end": 24.900000000000002,
            "count": 105
           },
           {
            "bin_start": 24.900000000000002,
            "bin_end": 35.2,
            "count": 544
           },
           {
            "bin_start": 35.2,
            "bin_end": 45.5,
            "count": 929
           },
           {
            "bin_start": 45.5,
            "bin_end": 55.800000000000004,
            "count": 1212
           },
           {
            "bin_start": 55.800000000000004,
            "bin_end": 66.10000000000001,
            "count": 1692
           },
           {
            "bin_start": 66.10000000000001,
            "bin_end": 76.4,
            "count": 3222
           },
           {
            "bin_start": 76.4,
            "bin_end": 86.7,
            "count": 606
           },
           {
            "bin_start": 86.7,
            "bin_end": 97,
            "count": 74
           }
          ]
         }
        },
        {
         "name": "weather_wind_mph",
         "dtype": "float64",
         "stats": {
          "unique_count": 34,
          "nan_count": 770,
          "min": "0.0",
          "max": "40.0",
          "histogram": [
           {
            "bin_start": 0,
            "bin_end": 4,
            "count": 2709
           },
           {
            "bin_start": 4,
            "bin_end": 8,
            "count": 1798
           },
           {
            "bin_start": 8,
            "bin_end": 12,
            "count": 2158
           },
           {
            "bin_start": 12,
            "bin_end": 16,
            "count": 1131
           },
           {
            "bin_start": 16,
            "bin_end": 20,
            "count": 441
           },
           {
            "bin_start": 20,
            "bin_end": 24,
            "count": 136
           },
           {
            "bin_start": 24,
            "bin_end": 28,
            "count": 40
           },
           {
            "bin_start": 28,
            "bin_end": 32,
            "count": 5
           },
           {
            "bin_start": 32,
            "bin_end": 36,
            "count": 2
           },
           {
            "bin_start": 36,
            "bin_end": 40,
            "count": 1
           }
          ]
         }
        },
        {
         "name": "weather_detail",
         "dtype": "object",
         "stats": {
          "unique_count": 8,
          "nan_count": 6796,
          "categories": [
           {
            "name": "DOME",
            "count": 2162
           },
           {
            "name": "7 others",
            "count": 233
           },
           {
            "name": "Missing",
            "count": 6796
           }
          ]
         }
        },
        {
         "name": "_deepnote_index_column",
         "dtype": "int64"
        }
       ],
       "rows": [
        {
         "over_under_line": 40,
         "total_points": 52,
         "weather_temperature": 56,
         "weather_wind_mph": 12,
         "weather_detail": "nan",
         "_deepnote_index_column": 0
        },
        {
         "over_under_line": 38,
         "total_points": 72,
         "weather_temperature": 55,
         "weather_wind_mph": 9,
         "weather_detail": "nan",
         "_deepnote_index_column": 1
        },
        {
         "over_under_line": 38.5,
         "total_points": 74,
         "weather_temperature": 49,
         "weather_wind_mph": 9,
         "weather_detail": "nan",
         "_deepnote_index_column": 2
        },
        {
         "over_under_line": 41.5,
         "total_points": 34,
         "weather_temperature": 48,
         "weather_wind_mph": 7,
         "weather_detail": "nan",
         "_deepnote_index_column": 3
        },
        {
         "over_under_line": 47,
         "total_points": 38,
         "weather_temperature": 56,
         "weather_wind_mph": 11,
         "weather_detail": "nan",
         "_deepnote_index_column": 4
        },
        {
         "over_under_line": 42.5,
         "total_points": 23,
         "weather_temperature": 72,
         "weather_wind_mph": 0,
         "weather_detail": "DOME",
         "_deepnote_index_column": 5
        },
        {
         "over_under_line": 42,
         "total_points": 36,
         "weather_temperature": 65,
         "weather_wind_mph": 13,
         "weather_detail": "nan",
         "_deepnote_index_column": 6
        },
        {
         "over_under_line": 41,
         "total_points": 41,
         "weather_temperature": 72,
         "weather_wind_mph": 0,
         "weather_detail": "DOME",
         "_deepnote_index_column": 7
        },
        {
         "over_under_line": 56,
         "total_points": 78,
         "weather_temperature": 68,
         "weather_wind_mph": 9,
         "weather_detail": "nan",
         "_deepnote_index_column": 8
        },
        {
         "over_under_line": 42,
         "total_points": 30,
         "weather_temperature": 72,
         "weather_wind_mph": 0,
         "weather_detail": "DOME",
         "_deepnote_index_column": 9
        }
       ]
      },
      "text/plain": "      over_under_line  total_points  weather_temperature  weather_wind_mph  \\\n0                40.0          52.0                 56.0              12.0   \n1                38.0          72.0                 55.0               9.0   \n2                38.5          74.0                 49.0               9.0   \n3                41.5          34.0                 48.0               7.0   \n4                47.0          38.0                 56.0              11.0   \n...               ...           ...                  ...               ...   \n9186             48.5          35.0                 35.0               0.0   \n9187             54.0          78.0                 35.0               6.0   \n9188             48.0          57.0                 50.0              11.0   \n9189             54.5          51.0                 41.0               4.0   \n9190             46.0          37.0                 72.0               0.0   \n\n     weather_detail  \n0               NaN  \n1               NaN  \n2               NaN  \n3               NaN  \n4               NaN  \n...             ...  \n9186            NaN  \n9187            NaN  \n9188            NaN  \n9189            NaN  \n9190           DOME  \n\n[9191 rows x 5 columns]",
      "text/html": "<div>\n<style scoped>\n    .dataframe tbody tr th:only-of-type {\n        vertical-align: middle;\n    }\n\n    .dataframe tbody tr th {\n        vertical-align: top;\n    }\n\n    .dataframe thead th {\n        text-align: right;\n    }\n</style>\n<table border=\"1\" class=\"dataframe\">\n  <thead>\n    <tr style=\"text-align: right;\">\n      <th></th>\n      <th>over_under_line</th>\n      <th>total_points</th>\n      <th>weather_temperature</th>\n      <th>weather_wind_mph</th>\n      <th>weather_detail</th>\n    </tr>\n  </thead>\n  <tbody>\n    <tr>\n      <th>0</th>\n      <td>40.0</td>\n      <td>52.0</td>\n      <td>56.0</td>\n      <td>12.0</td>\n      <td>NaN</td>\n    </tr>\n    <tr>\n      <th>1</th>\n      <td>38.0</td>\n      <td>72.0</td>\n      <td>55.0</td>\n      <td>9.0</td>\n      <td>NaN</td>\n    </tr>\n    <tr>\n      <th>2</th>\n      <td>38.5</td>\n      <td>74.0</td>\n      <td>49.0</td>\n      <td>9.0</td>\n      <td>NaN</td>\n    </tr>\n    <tr>\n      <th>3</th>\n      <td>41.5</td>\n      <td>34.0</td>\n      <td>48.0</td>\n      <td>7.0</td>\n      <td>NaN</td>\n    </tr>\n    <tr>\n      <th>4</th>\n      <td>47.0</td>\n      <td>38.0</td>\n      <td>56.0</td>\n      <td>11.0</td>\n      <td>NaN</td>\n    </tr>\n    <tr>\n      <th>...</th>\n      <td>...</td>\n      <td>...</td>\n      <td>...</td>\n      <td>...</td>\n      <td>...</td>\n    </tr>\n    <tr>\n      <th>9186</th>\n      <td>48.5</td>\n      <td>35.0</td>\n      <td>35.0</td>\n      <td>0.0</td>\n      <td>NaN</td>\n    </tr>\n    <tr>\n      <th>9187</th>\n      <td>54.0</td>\n      <td>78.0</td>\n      <td>35.0</td>\n      <td>6.0</td>\n      <td>NaN</td>\n    </tr>\n    <tr>\n      <th>9188</th>\n      <td>48.0</td>\n      <td>57.0</td>\n      <td>50.0</td>\n      <td>11.0</td>\n      <td>NaN</td>\n    </tr>\n    <tr>\n      <th>9189</th>\n      <td>54.5</td>\n      <td>51.0</td>\n      <td>41.0</td>\n      <td>4.0</td>\n      <td>NaN</td>\n    </tr>\n    <tr>\n      <th>9190</th>\n      <td>46.0</td>\n      <td>37.0</td>\n      <td>72.0</td>\n      <td>0.0</td>\n      <td>DOME</td>\n    </tr>\n  </tbody>\n</table>\n<p>9191 rows × 5 columns</p>\n</div>"
     },
     "metadata": {}
    }
   ],
   "execution_count": null
  },
  {
   "cell_type": "markdown",
   "source": "Simple regression model to predict total points scored with the over/under line as a predictor to see how good the sports books are at predicting the total points",
   "metadata": {
    "cell_id": "42ceddd9fb1d4206939df820bcde1aea",
    "tags": [],
    "deepnote_cell_type": "markdown",
    "deepnote_cell_height": 74.78125
   }
  },
  {
   "cell_type": "code",
   "metadata": {
    "cell_id": "c7e2d0611e034350a901e483d30de5bf",
    "tags": [],
    "deepnote_to_be_reexecuted": false,
    "source_hash": "6c29bbf",
    "execution_start": 1651082401303,
    "execution_millis": 1061,
    "deepnote_cell_type": "code",
    "deepnote_cell_height": 408.59375,
    "deepnote_output_heights": [
     59.59375
    ]
   },
   "source": "\nx = weather['over_under_line']\ny = weather['total_points']\n\n\nimport statsmodels.api as sm\n\n# Adding a constant to get an intercept\nx_sm = sm.add_constant(x)\n\n# Fitting the resgression line using 'OLS'\nlr = sm.OLS(y, x_sm).fit()\n\n# Printing the parameters\nlr.params",
   "outputs": [
    {
     "output_type": "execute_result",
     "execution_count": 3,
     "data": {
      "text/plain": "const              4.995060\nover_under_line    0.896771\ndtype: float64"
     },
     "metadata": {}
    }
   ],
   "execution_count": null
  },
  {
   "cell_type": "code",
   "metadata": {
    "cell_id": "e0b97f0ab53a46febffd6aa61b629c2f",
    "tags": [],
    "deepnote_to_be_reexecuted": false,
    "source_hash": "4d26bd74",
    "execution_start": 1651082402379,
    "execution_millis": 380,
    "deepnote_cell_type": "code",
    "deepnote_cell_height": 136.1875,
    "deepnote_output_heights": [
     21.1875
    ]
   },
   "source": "# Performing a summary to list out all the different parameters of the regression line fitted\nlr.rsquared",
   "outputs": [
    {
     "output_type": "execute_result",
     "execution_count": 4,
     "data": {
      "text/plain": "0.09514498312989017"
     },
     "metadata": {}
    }
   ],
   "execution_count": null
  },
  {
   "cell_type": "markdown",
   "source": "plot regression",
   "metadata": {
    "cell_id": "23de3e5bd1144cceb0a94a1aba162064",
    "tags": [],
    "deepnote_cell_type": "markdown",
    "deepnote_cell_height": 52.390625
   }
  },
  {
   "cell_type": "code",
   "metadata": {
    "cell_id": "eaabb62577b34f339e8817c48a3bc6af",
    "tags": [],
    "deepnote_to_be_reexecuted": false,
    "source_hash": "4d451ca",
    "execution_start": 1651082402456,
    "execution_millis": 1701,
    "owner_user_id": "c1090e23-9073-4bd2-9749-b795c06c3038",
    "deepnote_cell_type": "code",
    "deepnote_cell_height": 542,
    "deepnote_output_heights": [
     265,
     265
    ]
   },
   "source": "import matplotlib.pyplot as plt\nfrom statsmodels.graphics.regressionplots import abline_plot\n\n# scatter-plot data\nax = weather.plot(x='over_under_line', y='total_points', kind='scatter', color='red')\n\n# plot regression line\nabline_plot(model_results=lr, ax=ax)\n\nplt.show()\n",
   "outputs": [
    {
     "data": {
      "text/plain": "<Figure size 432x288 with 1 Axes>",
      "image/png": "[encoded data removed]"
     },
     "metadata": {
      "needs_background": "light",
      "image/png": {
       "width": 393,
       "height": 263
      }
     },
     "output_type": "display_data"
    }
   ],
   "execution_count": null
  },
  {
   "cell_type": "markdown",
   "source": "multiple regression to predict total points",
   "metadata": {
    "cell_id": "81e37254c62e4e1fad84440c51b933f2",
    "tags": [],
    "deepnote_cell_type": "markdown",
    "deepnote_cell_height": 52.390625
   }
  },
  {
   "cell_type": "code",
   "metadata": {
    "cell_id": "9563a58ca2b44aeba3487485f09fc54c",
    "tags": [],
    "deepnote_to_be_reexecuted": false,
    "source_hash": "7351b466",
    "execution_start": 1651082404178,
    "execution_millis": 188,
    "deepnote_table_state": {
     "pageSize": 10,
     "pageIndex": 696,
     "filters": [],
     "sortBy": []
    },
    "deepnote_table_loading": false,
    "deepnote_cell_type": "code",
    "deepnote_cell_height": 643.78125,
    "deepnote_output_heights": [
     78.78125
    ]
   },
   "source": "from sklearn.linear_model import LinearRegression\n\n#drop all games in a dome - weather does not matter\nweather = weather[weather.weather_detail != 'DOME']\n#drop rows missing temperature and wind data\nweather = weather.dropna(subset=['weather_temperature', 'weather_wind_mph'])\n\n#get categorical columns for weather condition details\nconditions = pd.get_dummies(weather, drop_first=True)\n\nx = conditions.drop('total_points', axis=1)\ny = conditions['total_points']\n\n#split into train and test data\nfrom sklearn.model_selection import train_test_split\n\nx_train, x_test, y_train, y_test = train_test_split(x, y, test_size = 0.2, random_state = 19)\n\n#create model\nmodel = LinearRegression()\nmodel.fit(x_train, y_train)\n\n#print summary of the model\nmodel.intercept_, model.coef_, model.score(x_train, y_train)\n\n# from sklearn.metrics import r2_score\n# score=r2_score(y_test,y_prediction)",
   "outputs": [
    {
     "output_type": "execute_result",
     "execution_count": 6,
     "data": {
      "text/plain": "(13.508783667938474,\n array([ 0.79457412, -0.03173599, -0.26665455,  0.37967743, -1.98998489,\n        -0.5199777 , -3.61247426,  9.92182912, 11.43025969]),\n 0.08191124894071766)"
     },
     "metadata": {}
    }
   ],
   "execution_count": null
  },
  {
   "cell_type": "markdown",
   "source": "Summarize the model here\n\n\nUse testing data",
   "metadata": {
    "cell_id": "d73825b4022140ceaddfca2521078f5c",
    "tags": [],
    "deepnote_cell_type": "markdown",
    "deepnote_cell_height": 88.78125
   }
  },
  {
   "cell_type": "code",
   "metadata": {
    "cell_id": "fb060095355f4e6da9eb8bb67f70a26e",
    "tags": [],
    "deepnote_to_be_reexecuted": false,
    "source_hash": "c3a1ba43",
    "execution_start": 1651082404359,
    "execution_millis": 74,
    "deepnote_cell_type": "code",
    "deepnote_cell_height": 208.1875,
    "deepnote_output_heights": [
     21.1875
    ]
   },
   "source": "y_prediction =  model.predict(x_test)\ny_prediction\n\nfrom sklearn.metrics import r2_score\nscore=r2_score(y_test,y_prediction)\nscore",
   "outputs": [
    {
     "output_type": "execute_result",
     "execution_count": 7,
     "data": {
      "text/plain": "0.08958595619510035"
     },
     "metadata": {}
    }
   ],
   "execution_count": null
  },
  {
   "cell_type": "markdown",
   "source": "<a style='text-decoration:none;line-height:16px;display:flex;color:#5B5B62;padding:10px;justify-content:end;' href='https://deepnote.com?utm_source=created-in-deepnote-cell&projectId=edd70093-bbe4-4f95-a99a-f731d544cc85' target=\"_blank\">\n<img alt='Created in deepnote.com' style='display:inline;max-height:16px;margin:0px;margin-right:7.5px;' src='data:image/svg+xml;base64,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' > </img>\nCreated in <span style='font-weight:600;margin-left:4px;'>Deepnote</span></a>",
   "metadata": {
    "tags": [],
    "created_in_deepnote_cell": true,
    "deepnote_cell_type": "markdown"
   }
  }
 ],
 "nbformat": 4,
 "nbformat_minor": 2,
 "metadata": {
  "orig_nbformat": 2,
  "deepnote": {},
  "deepnote_notebook_id": "0441e4af-b2c3-4d9e-9884-1ba792a55881",
  "deepnote_execution_queue": []
 }
}