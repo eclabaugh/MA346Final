{
 "cells": [
  {
   "cell_type": "code",
   "metadata": {
    "tags": [],
    "cell_id": "2b61a0c0-ddb1-4014-b959-575ce29c6edc",
    "deepnote_to_be_reexecuted": false,
    "source_hash": "3a33076e",
    "execution_start": 1651118383841,
    "execution_millis": 76,
    "owner_user_id": "c1090e23-9073-4bd2-9749-b795c06c3038",
    "deepnote_cell_type": "code",
    "deepnote_cell_height": 604.75
   },
   "source": "import pandas as pd\ngames = pd.read_csv('spreadspoke_scores.csv')\ngames.info()",
   "execution_count": 1,
   "outputs": [
    {
     "name": "stdout",
     "text": "<class 'pandas.core.frame.DataFrame'>\nRangeIndex: 13232 entries, 0 to 13231\nData columns (total 17 columns):\n #   Column               Non-Null Count  Dtype  \n---  ------               --------------  -----  \n 0   schedule_date        13232 non-null  object \n 1   schedule_season      13232 non-null  int64  \n 2   schedule_week        13232 non-null  object \n 3   schedule_playoff     13232 non-null  bool   \n 4   team_home            13232 non-null  object \n 5   score_home           13231 non-null  float64\n 6   score_away           13231 non-null  float64\n 7   team_away            13232 non-null  object \n 8   team_favorite_id     10753 non-null  object \n 9   spread_favorite      10753 non-null  float64\n 10  over_under_line      10743 non-null  object \n 11  stadium              13232 non-null  object \n 12  stadium_neutral      13232 non-null  bool   \n 13  weather_temperature  12189 non-null  float64\n 14  weather_wind_mph     12172 non-null  float64\n 15  weather_humidity     8441 non-null   float64\n 16  weather_detail       2822 non-null   object \ndtypes: bool(2), float64(6), int64(1), object(8)\nmemory usage: 1.5+ MB\n",
     "output_type": "stream"
    }
   ]
  },
  {
   "cell_type": "markdown",
   "source": "remove data before 1979 because there was no betting data prior",
   "metadata": {
    "cell_id": "31805ec9ece945b580dcf14a10a2112e",
    "tags": [],
    "deepnote_cell_type": "markdown",
    "deepnote_cell_height": 52.390625
   }
  },
  {
   "cell_type": "code",
   "metadata": {
    "cell_id": "8b8124f02c984ec999164b120828fb78",
    "tags": [],
    "deepnote_to_be_reexecuted": false,
    "source_hash": "3aff404",
    "execution_start": 1651118383920,
    "execution_millis": 299,
    "deepnote_table_state": {
     "pageSize": 10,
     "pageIndex": 2,
     "filters": [],
     "sortBy": [
      {
       "id": "over_under_line",
       "type": "asc"
      }
     ]
    },
    "deepnote_table_loading": false,
    "deepnote_cell_type": "code",
    "deepnote_cell_height": 666.65625
   },
   "source": "games = games[games['schedule_season'] >= 1979]\ngames",
   "execution_count": 2,
   "outputs": [
    {
     "output_type": "execute_result",
     "execution_count": 2,
     "data": {
      "application/vnd.deepnote.dataframe.v3+json": {
       "column_count": 17,
       "row_count": 10731,
       "columns": [
        {
         "name": "schedule_date",
         "dtype": "object",
         "stats": {
          "unique_count": 2031,
          "nan_count": 0,
          "categories": [
           {
            "name": "1/3/2010",
            "count": 16
           },
           {
            "name": "12/28/2008",
            "count": 16
           },
           {
            "name": "2029 others",
            "count": 10699
           }
          ]
         }
        },
        {
         "name": "schedule_season",
         "dtype": "int64",
         "stats": {
          "unique_count": 43,
          "nan_count": 0,
          "min": "1979",
          "max": "2021",
          "histogram": [
           {
            "bin_start": 1979,
            "bin_end": 1983.2,
            "count": 1073
           },
           {
            "bin_start": 1983.2,
            "bin_end": 1987.4,
            "count": 876
           },
           {
            "bin_start": 1987.4,
            "bin_end": 1991.6,
            "count": 936
           },
           {
            "bin_start": 1991.6,
            "bin_end": 1995.8,
            "count": 956
           },
           {
            "bin_start": 1995.8,
            "bin_end": 2000,
            "count": 1012
           },
           {
            "bin_start": 2000,
            "bin_end": 2004.2,
            "count": 1319
           },
           {
            "bin_start": 2004.2,
            "bin_end": 2008.4,
            "count": 1068
           },
           {
            "bin_start": 2008.4,
            "bin_end": 2012.6,
            "count": 1068
           },
           {
            "bin_start": 2012.6,
            "bin_end": 2016.8,
            "count": 1068
           },
           {
            "bin_start": 2016.8,
            "bin_end": 2021,
            "count": 1355
           }
          ]
         }
        },
        {
         "name": "schedule_week",
         "dtype": "object",
         "stats": {
          "unique_count": 24,
          "nan_count": 0,
          "categories": [
           {
            "name": "15",
            "count": 649
           },
           {
            "name": "16",
            "count": 649
           },
           {
            "name": "22 others",
            "count": 9433
           }
          ]
         }
        },
        {
         "name": "schedule_playoff",
         "dtype": "bool",
         "stats": {
          "unique_count": 2,
          "nan_count": 0,
          "categories": [
           {
            "name": "False",
            "count": 10270
           },
           {
            "name": "True",
            "count": 461
           }
          ]
         }
        },
        {
         "name": "team_home",
         "dtype": "object",
         "stats": {
          "unique_count": 42,
          "nan_count": 0,
          "categories": [
           {
            "name": "San Francisco 49ers",
            "count": 372
           },
           {
            "name": "New England Patriots",
            "count": 372
           },
           {
            "name": "40 others",
            "count": 9987
           }
          ]
         }
        },
        {
         "name": "score_home",
         "dtype": "float64",
         "stats": {
          "unique_count": 60,
          "nan_count": 1,
          "min": "0.0",
          "max": "62.0",
          "histogram": [
           {
            "bin_start": 0,
            "bin_end": 6.2,
            "count": 501
           },
           {
            "bin_start": 6.2,
            "bin_end": 12.4,
            "count": 1075
           },
           {
            "bin_start": 12.4,
            "bin_end": 18.6,
            "count": 2190
           },
           {
            "bin_start": 18.6,
            "bin_end": 24.8,
            "count": 2732
           },
           {
            "bin_start": 24.8,
            "bin_end": 31,
            "count": 1790
           },
           {
            "bin_start": 31,
            "bin_end": 37.2,
            "count": 1490
           },
           {
            "bin_start": 37.2,
            "bin_end": 43.4,
            "count": 605
           },
           {
            "bin_start": 43.4,
            "bin_end": 49.6,
            "count": 251
           },
           {
            "bin_start": 49.6,
            "bin_end": 55.800000000000004,
            "count": 71
           },
           {
            "bin_start": 55.800000000000004,
            "bin_end": 62,
            "count": 25
           }
          ]
         }
        },
        {
         "name": "score_away",
         "dtype": "float64",
         "stats": {
          "unique_count": 55,
          "nan_count": 1,
          "min": "0.0",
          "max": "59.0",
          "histogram": [
           {
            "bin_start": 0,
            "bin_end": 5.9,
            "count": 583
           },
           {
            "bin_start": 5.9,
            "bin_end": 11.8,
            "count": 1673
           },
           {
            "bin_start": 11.8,
            "bin_end": 17.700000000000003,
            "count": 2591
           },
           {
            "bin_start": 17.700000000000003,
            "bin_end": 23.6,
            "count": 2014
           },
           {
            "bin_start": 23.6,
            "bin_end": 29.5,
            "count": 1852
           },
           {
            "bin_start": 29.5,
            "bin_end": 35.400000000000006,
            "count": 1265
           },
           {
            "bin_start": 35.400000000000006,
            "bin_end": 41.300000000000004,
            "count": 523
           },
           {
            "bin_start": 41.300000000000004,
            "bin_end": 47.2,
            "count": 168
           },
           {
            "bin_start": 47.2,
            "bin_end": 53.1,
            "count": 50
           },
           {
            "bin_start": 53.1,
            "bin_end": 59,
            "count": 11
           }
          ]
         }
        },
        {
         "name": "team_away",
         "dtype": "object",
         "stats": {
          "unique_count": 42,
          "nan_count": 0,
          "categories": [
           {
            "name": "New England Patriots",
            "count": 361
           },
           {
            "name": "Green Bay Packers",
            "count": 361
           },
           {
            "name": "40 others",
            "count": 10009
           }
          ]
         }
        },
        {
         "name": "team_favorite_id",
         "dtype": "object",
         "stats": {
          "unique_count": 33,
          "nan_count": 0,
          "categories": [
           {
            "name": "PIT",
            "count": 472
           },
           {
            "name": "NE",
            "count": 468
           },
           {
            "name": "31 others",
            "count": 9791
           }
          ]
         }
        },
        {
         "name": "spread_favorite",
         "dtype": "float64"
        },
        {
         "name": "over_under_line",
         "dtype": "object"
        },
        {
         "name": "stadium",
         "dtype": "object"
        },
        {
         "name": "stadium_neutral",
         "dtype": "bool"
        },
        {
         "name": "weather_temperature",
         "dtype": "float64"
        },
        {
         "name": "weather_wind_mph",
         "dtype": "float64"
        },
        {
         "name": "weather_humidity",
         "dtype": "float64"
        },
        {
         "name": "weather_detail",
         "dtype": "object"
        },
        {
         "name": "_deepnote_index_column",
         "dtype": "int64"
        }
       ],
       "rows": [
        {
         "schedule_date": "1/6/1980",
         "schedule_season": 1979,
         "schedule_week": "Conference",
         "schedule_playoff": true,
         "team_home": "Tampa Bay Buccaneers",
         "score_home": 0,
         "score_away": 9,
         "team_away": "Los Angeles Rams",
         "team_favorite_id": "LAR",
         "spread_favorite": -3.5,
         "over_under_line": " ",
         "stadium": "Houlihan's Stadium",
         "stadium_neutral": false,
         "weather_temperature": "nan",
         "weather_wind_mph": "nan",
         "weather_humidity": "nan",
         "weather_detail": "nan",
         "_deepnote_index_column": 2732
        },
        {
         "schedule_date": "1/6/1980",
         "schedule_season": 1979,
         "schedule_week": "Conference",
         "schedule_playoff": true,
         "team_home": "Pittsburgh Steelers",
         "score_home": 27,
         "score_away": 13,
         "team_away": "Houston Oilers",
         "team_favorite_id": "PIT",
         "spread_favorite": -9.5,
         "over_under_line": " ",
         "stadium": "Three Rivers Stadium",
         "stadium_neutral": false,
         "weather_temperature": "nan",
         "weather_wind_mph": "nan",
         "weather_humidity": "nan",
         "weather_detail": "nan",
         "_deepnote_index_column": 2731
        },
        {
         "schedule_date": "12/30/1979",
         "schedule_season": 1979,
         "schedule_week": "Division",
         "schedule_playoff": true,
         "team_home": "Pittsburgh Steelers",
         "score_home": 34,
         "score_away": 14,
         "team_away": "Miami Dolphins",
         "team_favorite_id": "PIT",
         "spread_favorite": -9.5,
         "over_under_line": " ",
         "stadium": "Three Rivers Stadium",
         "stadium_neutral": false,
         "weather_temperature": "nan",
         "weather_wind_mph": "nan",
         "weather_humidity": "nan",
         "weather_detail": "nan",
         "_deepnote_index_column": 2730
        },
        {
         "schedule_date": "12/30/1979",
         "schedule_season": 1979,
         "schedule_week": "Division",
         "schedule_playoff": true,
         "team_home": "Dallas Cowboys",
         "score_home": 19,
         "score_away": 21,
         "team_away": "Los Angeles Rams",
         "team_favorite_id": "DAL",
         "spread_favorite": -8.5,
         "over_under_line": " ",
         "stadium": "Texas Stadium",
         "stadium_neutral": false,
         "weather_temperature": "nan",
         "weather_wind_mph": "nan",
         "weather_humidity": "nan",
         "weather_detail": "nan",
         "_deepnote_index_column": 2729
        },
        {
         "schedule_date": "12/29/1979",
         "schedule_season": 1979,
         "schedule_week": "Division",
         "schedule_playoff": true,
         "team_home": "Tampa Bay Buccaneers",
         "score_home": 24,
         "score_away": 17,
         "team_away": "Philadelphia Eagles",
         "team_favorite_id": "PHI",
         "spread_favorite": -4.5,
         "over_under_line": " ",
         "stadium": "Houlihan's Stadium",
         "stadium_neutral": false,
         "weather_temperature": "nan",
         "weather_wind_mph": "nan",
         "weather_humidity": "nan",
         "weather_detail": "nan",
         "_deepnote_index_column": 2728
        },
        {
         "schedule_date": "12/29/1979",
         "schedule_season": 1979,
         "schedule_week": "Division",
         "schedule_playoff": true,
         "team_home": "San Diego Chargers",
         "score_home": 14,
         "score_away": 17,
         "team_away": "Houston Oilers",
         "team_favorite_id": "LAC",
         "spread_favorite": -8,
         "over_under_line": " ",
         "stadium": "Qualcomm Stadium",
         "stadium_neutral": false,
         "weather_temperature": "nan",
         "weather_wind_mph": "nan",
         "weather_humidity": "nan",
         "weather_detail": "nan",
         "_deepnote_index_column": 2727
        },
        {
         "schedule_date": "12/23/1979",
         "schedule_season": 1979,
         "schedule_week": "Wildcard",
         "schedule_playoff": true,
         "team_home": "Philadelphia Eagles",
         "score_home": 27,
         "score_away": 17,
         "team_away": "Chicago Bears",
         "team_favorite_id": "PHI",
         "spread_favorite": -6.5,
         "over_under_line": " ",
         "stadium": "Veterans Stadium",
         "stadium_neutral": false,
         "weather_temperature": "nan",
         "weather_wind_mph": "nan",
         "weather_humidity": "nan",
         "weather_detail": "nan",
         "_deepnote_index_column": 2726
        },
        {
         "schedule_date": "12/23/1979",
         "schedule_season": 1979,
         "schedule_week": "Wildcard",
         "schedule_playoff": true,
         "team_home": "Houston Oilers",
         "score_home": 13,
         "score_away": 7,
         "team_away": "Denver Broncos",
         "team_favorite_id": "TEN",
         "spread_favorite": -7,
         "over_under_line": " ",
         "stadium": "Houston Astrodome",
         "stadium_neutral": false,
         "weather_temperature": 72,
         "weather_wind_mph": 0,
         "weather_humidity": "nan",
         "weather_detail": "DOME",
         "_deepnote_index_column": 2725
        },
        {
         "schedule_date": "12/28/1980",
         "schedule_season": 1980,
         "schedule_week": "Wildcard",
         "schedule_playoff": true,
         "team_home": "Oakland Raiders",
         "score_home": 27,
         "score_away": 7,
         "team_away": "Houston Oilers",
         "team_favorite_id": "TEN",
         "spread_favorite": -1,
         "over_under_line": " ",
         "stadium": "Oakland Coliseum",
         "stadium_neutral": false,
         "weather_temperature": "nan",
         "weather_wind_mph": "nan",
         "weather_humidity": "nan",
         "weather_detail": "nan",
         "_deepnote_index_column": 2959
        },
        {
         "schedule_date": "1/4/1986",
         "schedule_season": 1985,
         "schedule_week": "Division",
         "schedule_playoff": true,
         "team_home": "Miami Dolphins",
         "score_home": 24,
         "score_away": 21,
         "team_away": "Cleveland Browns",
         "team_favorite_id": "MIA",
         "spread_favorite": -10.5,
         "over_under_line": " ",
         "stadium": "Orange Bowl",
         "stadium_neutral": false,
         "weather_temperature": "nan",
         "weather_wind_mph": "nan",
         "weather_humidity": "nan",
         "weather_detail": "nan",
         "_deepnote_index_column": 4034
        }
       ]
      },
      "text/plain": "      schedule_date  schedule_season schedule_week  schedule_playoff  \\\n2501       9/1/1979             1979             1             False   \n2502       9/2/1979             1979             1             False   \n2503       9/2/1979             1979             1             False   \n2504       9/2/1979             1979             1             False   \n2505       9/2/1979             1979             1             False   \n...             ...              ...           ...               ...   \n13227     1/23/2022             2021      Division              True   \n13228     1/23/2022             2021      Division              True   \n13229     1/30/2022             2021    Conference              True   \n13230     1/30/2022             2021    Conference              True   \n13231     2/13/2022             2021     Superbowl              True   \n\n                  team_home  score_home  score_away            team_away  \\\n2501   Tampa Bay Buccaneers        31.0        16.0        Detroit Lions   \n2502          Buffalo Bills         7.0         9.0       Miami Dolphins   \n2503          Chicago Bears         6.0         3.0    Green Bay Packers   \n2504         Denver Broncos        10.0         0.0   Cincinnati Bengals   \n2505     Kansas City Chiefs        14.0         0.0      Baltimore Colts   \n...                     ...         ...         ...                  ...   \n13227    Kansas City Chiefs        42.0        36.0        Buffalo Bills   \n13228  Tampa Bay Buccaneers        27.0        30.0     Los Angeles Rams   \n13229    Kansas City Chiefs        24.0        27.0   Cincinnati Bengals   \n13230      Los Angeles Rams        20.0        17.0  San Francisco 49ers   \n13231      Los Angeles Rams         NaN         NaN   Cincinnati Bengals   \n\n      team_favorite_id  spread_favorite over_under_line  \\\n2501                TB             -3.0              30   \n2502               MIA             -5.0              39   \n2503               CHI             -3.0              31   \n2504               DEN             -3.0            31.5   \n2505                KC             -1.0              37   \n...                ...              ...             ...   \n13227               KC             -2.5            54.0   \n13228               TB             -3.0            48.0   \n13229               KC             -7.0            54.5   \n13230              LAR             -3.5            46.0   \n13231              LAR             -4.0            48.5   \n\n                     stadium  stadium_neutral  weather_temperature  \\\n2501      Houlihan's Stadium            False                 79.0   \n2502    Ralph Wilson Stadium            False                 74.0   \n2503           Soldier Field            False                 78.0   \n2504       Mile High Stadium            False                 69.0   \n2505       Arrowhead Stadium            False                 76.0   \n...                      ...              ...                  ...   \n13227      Arrowhead Stadium            False                 35.0   \n13228  Raymond James Stadium            False                 50.0   \n13229      Arrowhead Stadium            False                 41.0   \n13230           SoFi Stadium            False                 72.0   \n13231           SoFi Stadium             True                 72.0   \n\n       weather_wind_mph  weather_humidity weather_detail  \n2501                9.0              87.0            NaN  \n2502               15.0              74.0            NaN  \n2503               11.0              68.0            NaN  \n2504                6.0              38.0            NaN  \n2505                8.0              71.0            NaN  \n...                 ...               ...            ...  \n13227               6.0              54.0            NaN  \n13228              11.0              69.0            NaN  \n13229               4.0              41.0            NaN  \n13230               0.0               NaN           DOME  \n13231               0.0               NaN           DOME  \n\n[10731 rows x 17 columns]",
      "text/html": "<div>\n<style scoped>\n    .dataframe tbody tr th:only-of-type {\n        vertical-align: middle;\n    }\n\n    .dataframe tbody tr th {\n        vertical-align: top;\n    }\n\n    .dataframe thead th {\n        text-align: right;\n    }\n</style>\n<table border=\"1\" class=\"dataframe\">\n  <thead>\n    <tr style=\"text-align: right;\">\n      <th></th>\n      <th>schedule_date</th>\n      <th>schedule_season</th>\n      <th>schedule_week</th>\n      <th>schedule_playoff</th>\n      <th>team_home</th>\n      <th>score_home</th>\n      <th>score_away</th>\n      <th>team_away</th>\n      <th>team_favorite_id</th>\n      <th>spread_favorite</th>\n      <th>over_under_line</th>\n      <th>stadium</th>\n      <th>stadium_neutral</th>\n      <th>weather_temperature</th>\n      <th>weather_wind_mph</th>\n      <th>weather_humidity</th>\n      <th>weather_detail</th>\n    </tr>\n  </thead>\n  <tbody>\n    <tr>\n      <th>2501</th>\n      <td>9/1/1979</td>\n      <td>1979</td>\n      <td>1</td>\n      <td>False</td>\n      <td>Tampa Bay Buccaneers</td>\n      <td>31.0</td>\n      <td>16.0</td>\n      <td>Detroit Lions</td>\n      <td>TB</td>\n      <td>-3.0</td>\n      <td>30</td>\n      <td>Houlihan's Stadium</td>\n      <td>False</td>\n      <td>79.0</td>\n      <td>9.0</td>\n      <td>87.0</td>\n      <td>NaN</td>\n    </tr>\n    <tr>\n      <th>2502</th>\n      <td>9/2/1979</td>\n      <td>1979</td>\n      <td>1</td>\n      <td>False</td>\n      <td>Buffalo Bills</td>\n      <td>7.0</td>\n      <td>9.0</td>\n      <td>Miami Dolphins</td>\n      <td>MIA</td>\n      <td>-5.0</td>\n      <td>39</td>\n      <td>Ralph Wilson Stadium</td>\n      <td>False</td>\n      <td>74.0</td>\n      <td>15.0</td>\n      <td>74.0</td>\n      <td>NaN</td>\n    </tr>\n    <tr>\n      <th>2503</th>\n      <td>9/2/1979</td>\n      <td>1979</td>\n      <td>1</td>\n      <td>False</td>\n      <td>Chicago Bears</td>\n      <td>6.0</td>\n      <td>3.0</td>\n      <td>Green Bay Packers</td>\n      <td>CHI</td>\n      <td>-3.0</td>\n      <td>31</td>\n      <td>Soldier Field</td>\n      <td>False</td>\n      <td>78.0</td>\n      <td>11.0</td>\n      <td>68.0</td>\n      <td>NaN</td>\n    </tr>\n    <tr>\n      <th>2504</th>\n      <td>9/2/1979</td>\n      <td>1979</td>\n      <td>1</td>\n      <td>False</td>\n      <td>Denver Broncos</td>\n      <td>10.0</td>\n      <td>0.0</td>\n      <td>Cincinnati Bengals</td>\n      <td>DEN</td>\n      <td>-3.0</td>\n      <td>31.5</td>\n      <td>Mile High Stadium</td>\n      <td>False</td>\n      <td>69.0</td>\n      <td>6.0</td>\n      <td>38.0</td>\n      <td>NaN</td>\n    </tr>\n    <tr>\n      <th>2505</th>\n      <td>9/2/1979</td>\n      <td>1979</td>\n      <td>1</td>\n      <td>False</td>\n      <td>Kansas City Chiefs</td>\n      <td>14.0</td>\n      <td>0.0</td>\n      <td>Baltimore Colts</td>\n      <td>KC</td>\n      <td>-1.0</td>\n      <td>37</td>\n      <td>Arrowhead Stadium</td>\n      <td>False</td>\n      <td>76.0</td>\n      <td>8.0</td>\n      <td>71.0</td>\n      <td>NaN</td>\n    </tr>\n    <tr>\n      <th>...</th>\n      <td>...</td>\n      <td>...</td>\n      <td>...</td>\n      <td>...</td>\n      <td>...</td>\n      <td>...</td>\n      <td>...</td>\n      <td>...</td>\n      <td>...</td>\n      <td>...</td>\n      <td>...</td>\n      <td>...</td>\n      <td>...</td>\n      <td>...</td>\n      <td>...</td>\n      <td>...</td>\n      <td>...</td>\n    </tr>\n    <tr>\n      <th>13227</th>\n      <td>1/23/2022</td>\n      <td>2021</td>\n      <td>Division</td>\n      <td>True</td>\n      <td>Kansas City Chiefs</td>\n      <td>42.0</td>\n      <td>36.0</td>\n      <td>Buffalo Bills</td>\n      <td>KC</td>\n      <td>-2.5</td>\n      <td>54.0</td>\n      <td>Arrowhead Stadium</td>\n      <td>False</td>\n      <td>35.0</td>\n      <td>6.0</td>\n      <td>54.0</td>\n      <td>NaN</td>\n    </tr>\n    <tr>\n      <th>13228</th>\n      <td>1/23/2022</td>\n      <td>2021</td>\n      <td>Division</td>\n      <td>True</td>\n      <td>Tampa Bay Buccaneers</td>\n      <td>27.0</td>\n      <td>30.0</td>\n      <td>Los Angeles Rams</td>\n      <td>TB</td>\n      <td>-3.0</td>\n      <td>48.0</td>\n      <td>Raymond James Stadium</td>\n      <td>False</td>\n      <td>50.0</td>\n      <td>11.0</td>\n      <td>69.0</td>\n      <td>NaN</td>\n    </tr>\n    <tr>\n      <th>13229</th>\n      <td>1/30/2022</td>\n      <td>2021</td>\n      <td>Conference</td>\n      <td>True</td>\n      <td>Kansas City Chiefs</td>\n      <td>24.0</td>\n      <td>27.0</td>\n      <td>Cincinnati Bengals</td>\n      <td>KC</td>\n      <td>-7.0</td>\n      <td>54.5</td>\n      <td>Arrowhead Stadium</td>\n      <td>False</td>\n      <td>41.0</td>\n      <td>4.0</td>\n      <td>41.0</td>\n      <td>NaN</td>\n    </tr>\n    <tr>\n      <th>13230</th>\n      <td>1/30/2022</td>\n      <td>2021</td>\n      <td>Conference</td>\n      <td>True</td>\n      <td>Los Angeles Rams</td>\n      <td>20.0</td>\n      <td>17.0</td>\n      <td>San Francisco 49ers</td>\n      <td>LAR</td>\n      <td>-3.5</td>\n      <td>46.0</td>\n      <td>SoFi Stadium</td>\n      <td>False</td>\n      <td>72.0</td>\n      <td>0.0</td>\n      <td>NaN</td>\n      <td>DOME</td>\n    </tr>\n    <tr>\n      <th>13231</th>\n      <td>2/13/2022</td>\n      <td>2021</td>\n      <td>Superbowl</td>\n      <td>True</td>\n      <td>Los Angeles Rams</td>\n      <td>NaN</td>\n      <td>NaN</td>\n      <td>Cincinnati Bengals</td>\n      <td>LAR</td>\n      <td>-4.0</td>\n      <td>48.5</td>\n      <td>SoFi Stadium</td>\n      <td>True</td>\n      <td>72.0</td>\n      <td>0.0</td>\n      <td>NaN</td>\n      <td>DOME</td>\n    </tr>\n  </tbody>\n</table>\n<p>10731 rows × 17 columns</p>\n</div>"
     },
     "metadata": {}
    }
   ]
  },
  {
   "cell_type": "markdown",
   "source": "creating columns for spread covering, total points, o/u covered, etc...\n\nThere are missing values for the over/under line through the 1985 season. While I could just remove the missing values, I am going to remove all data 1985 and before because I want to do some analysis over full seasons, so havnig a few missing entries from those seasons would mess that up. 1986 and on is still a considerable sized data frame.",
   "metadata": {
    "cell_id": "b9c598a6353546ab8c1ba52b5597343c",
    "tags": [],
    "deepnote_cell_type": "markdown",
    "deepnote_cell_height": 155.96875
   }
  },
  {
   "cell_type": "code",
   "metadata": {
    "cell_id": "bd43c38c7b4c46848a93ad4def93abbe",
    "tags": [],
    "deepnote_to_be_reexecuted": false,
    "source_hash": "c04bac3e",
    "execution_start": 1651118384228,
    "execution_millis": 11,
    "deepnote_table_state": {
     "pageSize": 10,
     "pageIndex": 0,
     "filters": [],
     "sortBy": [
      {
       "id": "over_under_line",
       "type": "desc"
      }
     ]
    },
    "deepnote_table_loading": false,
    "deepnote_cell_type": "code",
    "deepnote_cell_height": 791
   },
   "source": "games = games[games['schedule_season'] > 1985]\ngames['over_under_line'] = games['over_under_line'].astype(float)\ngames['total_points'] = games['score_home'] + games['score_away']\ngames.loc[games['total_points'] > games['over_under_line'], 'over_under_result'] = 'over'\ngames.loc[games['total_points'] < games['over_under_line'], 'over_under_result'] = 'under'\ngames.loc[games['total_points'] == games['over_under_line'], 'over_under_result'] = 'push'",
   "execution_count": 3,
   "outputs": [
    {
     "name": "stderr",
     "text": "/shared-libs/python3.7/py-core/lib/python3.7/site-packages/ipykernel_launcher.py:3: SettingWithCopyWarning: \nA value is trying to be set on a copy of a slice from a DataFrame.\nTry using .loc[row_indexer,col_indexer] = value instead\n\nSee the caveats in the documentation: https://pandas.pydata.org/pandas-docs/stable/user_guide/indexing.html#returning-a-view-versus-a-copy\n  This is separate from the ipykernel package so we can avoid doing imports until\n/shared-libs/python3.7/py-core/lib/python3.7/site-packages/ipykernel_launcher.py:4: SettingWithCopyWarning: \nA value is trying to be set on a copy of a slice from a DataFrame.\nTry using .loc[row_indexer,col_indexer] = value instead\n\nSee the caveats in the documentation: https://pandas.pydata.org/pandas-docs/stable/user_guide/indexing.html#returning-a-view-versus-a-copy\n  after removing the cwd from sys.path.\n/shared-libs/python3.7/py/lib/python3.7/site-packages/pandas/core/indexing.py:1599: SettingWithCopyWarning: \nA value is trying to be set on a copy of a slice from a DataFrame.\nTry using .loc[row_indexer,col_indexer] = value instead\n\nSee the caveats in the documentation: https://pandas.pydata.org/pandas-docs/stable/user_guide/indexing.html#returning-a-view-versus-a-copy\n  self.obj[key] = infer_fill_value(value)\n/shared-libs/python3.7/py/lib/python3.7/site-packages/pandas/core/indexing.py:1720: SettingWithCopyWarning: \nA value is trying to be set on a copy of a slice from a DataFrame.\nTry using .loc[row_indexer,col_indexer] = value instead\n\nSee the caveats in the documentation: https://pandas.pydata.org/pandas-docs/stable/user_guide/indexing.html#returning-a-view-versus-a-copy\n  self._setitem_single_column(loc, value, pi)\n/shared-libs/python3.7/py/lib/python3.7/site-packages/pandas/core/indexing.py:1720: SettingWithCopyWarning: \nA value is trying to be set on a copy of a slice from a DataFrame.\nTry using .loc[row_indexer,col_indexer] = value instead\n\nSee the caveats in the documentation: https://pandas.pydata.org/pandas-docs/stable/user_guide/indexing.html#returning-a-view-versus-a-copy\n  self._setitem_single_column(loc, value, pi)\n/shared-libs/python3.7/py/lib/python3.7/site-packages/pandas/core/indexing.py:1720: SettingWithCopyWarning: \nA value is trying to be set on a copy of a slice from a DataFrame.\nTry using .loc[row_indexer,col_indexer] = value instead\n\nSee the caveats in the documentation: https://pandas.pydata.org/pandas-docs/stable/user_guide/indexing.html#returning-a-view-versus-a-copy\n  self._setitem_single_column(loc, value, pi)\n",
     "output_type": "stream"
    }
   ]
  },
  {
   "cell_type": "code",
   "metadata": {
    "cell_id": "930ceeee30e143b0b74ab96d0886ec9d",
    "tags": [],
    "deepnote_to_be_reexecuted": false,
    "source_hash": "c0812938",
    "execution_start": 1651118384300,
    "execution_millis": 4626544,
    "deepnote_cell_type": "code",
    "deepnote_cell_height": 175.78125,
    "deepnote_output_heights": [
     78.78125
    ]
   },
   "source": "games['team_favorite_id'].unique()",
   "execution_count": 4,
   "outputs": [
    {
     "output_type": "execute_result",
     "execution_count": 4,
     "data": {
      "text/plain": "array(['NYJ', 'CHI', 'DEN', 'GB', 'CIN', 'MIN', 'NE', 'NO', 'MIA', 'SEA',\n       'LAR', 'SF', 'WAS', 'NYG', 'ATL', 'DAL', 'TEN', 'CLE', 'BUF',\n       'DET', 'KC', 'LVR', 'LAC', 'PICK', 'TB', 'PHI', 'PIT', 'ARI',\n       'IND', 'BAL', 'JAX', 'CAR', 'HOU'], dtype=object)"
     },
     "metadata": {}
    }
   ]
  },
  {
   "cell_type": "code",
   "metadata": {
    "cell_id": "bf1e6a03c41b4b78bd68f96d6ae4f562",
    "tags": [],
    "deepnote_to_be_reexecuted": false,
    "source_hash": "145703b5",
    "execution_start": 1651118384349,
    "execution_millis": 49,
    "deepnote_cell_type": "code",
    "deepnote_cell_height": 1295
   },
   "source": "teams = pd.read_csv('nfl_teams.csv')\n\n\n\nteam_dict = dict(zip(teams.team_name, teams.team_id))\ngames['home_id'] = games['team_home'].map(team_dict)\ngames['away_id'] = games['team_away'].map(team_dict)\n\ngames.loc[games['team_favorite_id'] == games['home_id'], 'underdog_team_id'] = games['away_id']\ngames.loc[games['team_favorite_id'] == games['away_id'], 'underdog_team_id'] = games['home_id']\ngames.loc[games['team_favorite_id'] == 'PICK', 'underdog_team_id'] = games['team_favorite_id']\n\ngames['winning_team'] = 'team'\n\ngames.loc[games['score_home'] > games['score_away'], 'winning_team'] = games['home_id']\ngames.loc[games['score_home'] < games['score_away'], 'winning_team'] = games['away_id']\ngames.loc[games['score_home'] == games['score_away'], 'winning_team'] = 'tie'\n\ngames.loc[games['score_home'] < games['score_away'], 'losing_team'] = games['home_id']\ngames.loc[games['score_home'] > games['score_away'], 'losing_team'] = games['away_id']\ngames.loc[games['score_home'] == games['score_away'], 'losing_team'] = 'tie'\n\ngames.loc[games['winning_team'] == 'tie', 'tying_team_home'] = games['home_id']\ngames.loc[games['winning_team'] == 'tie', 'tying_team_away'] = games['away_id']\n\n# games['winning_team'].value_counts() #one entry not changed from 'team': need to look at\n\n#games.loc[games['winning_team'] == 'team']\n#data must not have been updated since the Superbowl this year because the scores for it are missing\n#will remove that entry\n\ngames = games.drop(labels=13231, axis=0)\n\n",
   "execution_count": 5,
   "outputs": [
    {
     "name": "stderr",
     "text": "/shared-libs/python3.7/py-core/lib/python3.7/site-packages/ipykernel_launcher.py:6: SettingWithCopyWarning: \nA value is trying to be set on a copy of a slice from a DataFrame.\nTry using .loc[row_indexer,col_indexer] = value instead\n\nSee the caveats in the documentation: https://pandas.pydata.org/pandas-docs/stable/user_guide/indexing.html#returning-a-view-versus-a-copy\n  \n/shared-libs/python3.7/py-core/lib/python3.7/site-packages/ipykernel_launcher.py:7: SettingWithCopyWarning: \nA value is trying to be set on a copy of a slice from a DataFrame.\nTry using .loc[row_indexer,col_indexer] = value instead\n\nSee the caveats in the documentation: https://pandas.pydata.org/pandas-docs/stable/user_guide/indexing.html#returning-a-view-versus-a-copy\n  import sys\n/shared-libs/python3.7/py/lib/python3.7/site-packages/pandas/core/indexing.py:1599: SettingWithCopyWarning: \nA value is trying to be set on a copy of a slice from a DataFrame.\nTry using .loc[row_indexer,col_indexer] = value instead\n\nSee the caveats in the documentation: https://pandas.pydata.org/pandas-docs/stable/user_guide/indexing.html#returning-a-view-versus-a-copy\n  self.obj[key] = infer_fill_value(value)\n/shared-libs/python3.7/py/lib/python3.7/site-packages/pandas/core/indexing.py:1676: SettingWithCopyWarning: \nA value is trying to be set on a copy of a slice from a DataFrame.\nTry using .loc[row_indexer,col_indexer] = value instead\n\nSee the caveats in the documentation: https://pandas.pydata.org/pandas-docs/stable/user_guide/indexing.html#returning-a-view-versus-a-copy\n  self._setitem_single_column(ilocs[0], value, pi)\n/shared-libs/python3.7/py-core/lib/python3.7/site-packages/ipykernel_launcher.py:13: SettingWithCopyWarning: \nA value is trying to be set on a copy of a slice from a DataFrame.\nTry using .loc[row_indexer,col_indexer] = value instead\n\nSee the caveats in the documentation: https://pandas.pydata.org/pandas-docs/stable/user_guide/indexing.html#returning-a-view-versus-a-copy\n  del sys.path[0]\n/shared-libs/python3.7/py/lib/python3.7/site-packages/pandas/core/indexing.py:1676: SettingWithCopyWarning: \nA value is trying to be set on a copy of a slice from a DataFrame.\nTry using .loc[row_indexer,col_indexer] = value instead\n\nSee the caveats in the documentation: https://pandas.pydata.org/pandas-docs/stable/user_guide/indexing.html#returning-a-view-versus-a-copy\n  self._setitem_single_column(ilocs[0], value, pi)\n/shared-libs/python3.7/py/lib/python3.7/site-packages/pandas/core/indexing.py:1676: SettingWithCopyWarning: \nA value is trying to be set on a copy of a slice from a DataFrame.\nTry using .loc[row_indexer,col_indexer] = value instead\n\nSee the caveats in the documentation: https://pandas.pydata.org/pandas-docs/stable/user_guide/indexing.html#returning-a-view-versus-a-copy\n  self._setitem_single_column(ilocs[0], value, pi)\n/shared-libs/python3.7/py/lib/python3.7/site-packages/pandas/core/indexing.py:1720: SettingWithCopyWarning: \nA value is trying to be set on a copy of a slice from a DataFrame.\nTry using .loc[row_indexer,col_indexer] = value instead\n\nSee the caveats in the documentation: https://pandas.pydata.org/pandas-docs/stable/user_guide/indexing.html#returning-a-view-versus-a-copy\n  self._setitem_single_column(loc, value, pi)\n/shared-libs/python3.7/py/lib/python3.7/site-packages/pandas/core/indexing.py:1599: SettingWithCopyWarning: \nA value is trying to be set on a copy of a slice from a DataFrame.\nTry using .loc[row_indexer,col_indexer] = value instead\n\nSee the caveats in the documentation: https://pandas.pydata.org/pandas-docs/stable/user_guide/indexing.html#returning-a-view-versus-a-copy\n  self.obj[key] = infer_fill_value(value)\n/shared-libs/python3.7/py/lib/python3.7/site-packages/pandas/core/indexing.py:1676: SettingWithCopyWarning: \nA value is trying to be set on a copy of a slice from a DataFrame.\nTry using .loc[row_indexer,col_indexer] = value instead\n\nSee the caveats in the documentation: https://pandas.pydata.org/pandas-docs/stable/user_guide/indexing.html#returning-a-view-versus-a-copy\n  self._setitem_single_column(ilocs[0], value, pi)\n/shared-libs/python3.7/py/lib/python3.7/site-packages/pandas/core/indexing.py:1676: SettingWithCopyWarning: \nA value is trying to be set on a copy of a slice from a DataFrame.\nTry using .loc[row_indexer,col_indexer] = value instead\n\nSee the caveats in the documentation: https://pandas.pydata.org/pandas-docs/stable/user_guide/indexing.html#returning-a-view-versus-a-copy\n  self._setitem_single_column(ilocs[0], value, pi)\n/shared-libs/python3.7/py/lib/python3.7/site-packages/pandas/core/indexing.py:1720: SettingWithCopyWarning: \nA value is trying to be set on a copy of a slice from a DataFrame.\nTry using .loc[row_indexer,col_indexer] = value instead\n\nSee the caveats in the documentation: https://pandas.pydata.org/pandas-docs/stable/user_guide/indexing.html#returning-a-view-versus-a-copy\n  self._setitem_single_column(loc, value, pi)\n/shared-libs/python3.7/py/lib/python3.7/site-packages/pandas/core/indexing.py:1599: SettingWithCopyWarning: \nA value is trying to be set on a copy of a slice from a DataFrame.\nTry using .loc[row_indexer,col_indexer] = value instead\n\nSee the caveats in the documentation: https://pandas.pydata.org/pandas-docs/stable/user_guide/indexing.html#returning-a-view-versus-a-copy\n  self.obj[key] = infer_fill_value(value)\n/shared-libs/python3.7/py/lib/python3.7/site-packages/pandas/core/indexing.py:1676: SettingWithCopyWarning: \nA value is trying to be set on a copy of a slice from a DataFrame.\nTry using .loc[row_indexer,col_indexer] = value instead\n\nSee the caveats in the documentation: https://pandas.pydata.org/pandas-docs/stable/user_guide/indexing.html#returning-a-view-versus-a-copy\n  self._setitem_single_column(ilocs[0], value, pi)\n",
     "output_type": "stream"
    }
   ]
  },
  {
   "cell_type": "code",
   "metadata": {
    "cell_id": "4aa8a1473fc64f1b843d32dce9ae7912",
    "tags": [],
    "deepnote_to_be_reexecuted": false,
    "source_hash": "42f410eb",
    "execution_start": 1651118384441,
    "execution_millis": 2,
    "deepnote_cell_type": "code",
    "deepnote_cell_height": 247.78125,
    "deepnote_output_heights": [
     78.78125
    ]
   },
   "source": "games.loc[games['winning_team'] == games['team_favorite_id'], 'fav_or_dog_won'] = 'fav'\ngames.loc[games['winning_team'] == games['underdog_team_id'], 'fav_or_dog_won'] = 'dog'\ngames.loc[games['team_favorite_id'] == 'PICK', 'fav_or_dog_won'] = 'PICK'\n\ngames['fav_or_dog_won'].value_counts()",
   "execution_count": 6,
   "outputs": [
    {
     "output_type": "execute_result",
     "execution_count": 6,
     "data": {
      "text/plain": "fav     6038\ndog     3040\nPICK      94\nName: fav_or_dog_won, dtype: int64"
     },
     "metadata": {}
    }
   ]
  },
  {
   "cell_type": "code",
   "metadata": {
    "cell_id": "dfd41cb540b147c0b7cedcc5aee30f9a",
    "tags": [],
    "deepnote_to_be_reexecuted": false,
    "source_hash": "ce99d9be",
    "execution_start": 1651118384441,
    "execution_millis": 23,
    "deepnote_table_state": {
     "pageSize": 10,
     "pageIndex": 9,
     "filters": [],
     "sortBy": []
    },
    "deepnote_table_loading": false,
    "deepnote_cell_type": "code",
    "deepnote_cell_height": 374.96875,
    "deepnote_output_heights": [
     97.984375
    ]
   },
   "source": "games['margin_of_victory'] = abs(games['score_home'] - games['score_away'])\n\ngames.loc[games['margin_of_victory'] > abs(games['spread_favorite']), 'spread_result'] = 'fav'\ngames.loc[games['margin_of_victory'] < abs(games['spread_favorite']), 'spread_result'] = 'dog'\ngames.loc[games['margin_of_victory'] == abs(games['spread_favorite']), 'spread_result'] = 'push'\ngames.loc[games['winning_team'] == games['underdog_team_id'], 'spread_result'] = 'dog'\ngames.loc[games['team_favorite_id'] == 'PICK', 'spread_result'] = 'PICK'\n\n\n\ngames['spread_result'].value_counts()",
   "execution_count": 7,
   "outputs": [
    {
     "output_type": "execute_result",
     "execution_count": 7,
     "data": {
      "text/plain": "dog     4564\nfav     4281\npush     252\nPICK      94\nName: spread_result, dtype: int64"
     },
     "metadata": {}
    }
   ]
  },
  {
   "cell_type": "code",
   "metadata": {
    "cell_id": "aa9a6a2458984cffa3bf8a35842aaf38",
    "tags": [],
    "deepnote_to_be_reexecuted": false,
    "source_hash": "b9feb990",
    "execution_start": 1651118384483,
    "execution_millis": 47,
    "deepnote_cell_type": "code",
    "deepnote_cell_height": 261
   },
   "source": "games.loc[games['spread_result'] == 'fav', 'spread_winner'] = games['team_favorite_id']\ngames.loc[games['spread_result'] == 'dog', 'spread_winner'] = games['underdog_team_id']\ngames.loc[games['spread_result'] == 'fav', 'spread_loser'] = games['underdog_team_id']\ngames.loc[games['spread_result'] == 'dog', 'spread_loser'] = games['team_favorite_id']\ngames.loc[games['spread_result'] == 'PICK', 'spread_winner'] = games['winning_team']\ngames.loc[games['spread_result'] == 'PICK', 'spread_loser'] = games['losing_team']\n\ngames.loc[games['spread_result'] == 'push', 'push_team_home'] = games['team_home']\ngames.loc[games['spread_result'] == 'push', 'push_team_away'] = games['team_away']\n\n",
   "execution_count": 8,
   "outputs": []
  },
  {
   "cell_type": "code",
   "source": "games.loc[games['over_under_result'] == 'over', 'over_winner_home'] = games['home_id']\ngames.loc[games['over_under_result'] == 'over', 'over_winner_away'] = games['away_id']\n\ngames.loc[games['over_under_result'] == 'under', 'over_loser_home'] = games['home_id']\ngames.loc[games['over_under_result'] == 'under', 'over_loser_away'] = games['away_id']\n\ngames.loc[games['over_under_result'] == 'push', 'over_push_home'] = games['home_id']\ngames.loc[games['over_under_result'] == 'push', 'over_push_away'] = games['away_id']\n",
   "metadata": {
    "cell_id": "20f7cbf84d9e4c0e901fe4df98503dae",
    "tags": [],
    "deepnote_to_be_reexecuted": false,
    "source_hash": "c39493d6",
    "execution_start": 1651118902652,
    "execution_millis": 5,
    "deepnote_cell_type": "code",
    "deepnote_cell_height": 225
   },
   "outputs": [],
   "execution_count": 14
  },
  {
   "cell_type": "code",
   "metadata": {
    "cell_id": "610f744ca7d144d88da6f3db12d61bb2",
    "tags": [],
    "deepnote_to_be_reexecuted": false,
    "source_hash": "138428ab",
    "execution_start": 1651118909028,
    "execution_millis": 651,
    "deepnote_table_state": {
     "pageSize": 10,
     "pageIndex": 0,
     "filters": [],
     "sortBy": []
    },
    "deepnote_table_loading": false,
    "deepnote_table_invalid": false,
    "deepnote_cell_type": "code",
    "deepnote_cell_height": 616.65625
   },
   "source": "games",
   "execution_count": 15,
   "outputs": [
    {
     "output_type": "execute_result",
     "execution_count": 15,
     "data": {
      "application/vnd.deepnote.dataframe.v3+json": {
       "column_count": 39,
       "row_count": 9191,
       "columns": [
        {
         "name": "schedule_date",
         "dtype": "object",
         "stats": {
          "unique_count": 1736,
          "nan_count": 0,
          "categories": [
           {
            "name": "1/2/2005",
            "count": 16
           },
           {
            "name": "12/28/2008",
            "count": 16
           },
           {
            "name": "1734 others",
            "count": 9159
           }
          ]
         }
        },
        {
         "name": "schedule_season",
         "dtype": "int64",
         "stats": {
          "unique_count": 36,
          "nan_count": 0,
          "min": "1986",
          "max": "2021",
          "histogram": [
           {
            "bin_start": 1986,
            "bin_end": 1989.5,
            "count": 876
           },
           {
            "bin_start": 1989.5,
            "bin_end": 1993,
            "count": 705
           },
           {
            "bin_start": 1993,
            "bin_end": 1996.5,
            "count": 972
           },
           {
            "bin_start": 1996.5,
            "bin_end": 2000,
            "count": 761
           },
           {
            "bin_start": 2000,
            "bin_end": 2003.5,
            "count": 1052
           },
           {
            "bin_start": 2003.5,
            "bin_end": 2007,
            "count": 801
           },
           {
            "bin_start": 2007,
            "bin_end": 2010.5,
            "count": 1068
           },
           {
            "bin_start": 2010.5,
            "bin_end": 2014,
            "count": 801
           },
           {
            "bin_start": 2014,
            "bin_end": 2017.5,
            "count": 1068
           },
           {
            "bin_start": 2017.5,
            "bin_end": 2021,
            "count": 1087
           }
          ]
         }
        },
        {
         "name": "schedule_week",
         "dtype": "object",
         "stats": {
          "unique_count": 24,
          "nan_count": 0,
          "categories": [
           {
            "name": "15",
            "count": 551
           },
           {
            "name": "16",
            "count": 551
           },
           {
            "name": "22 others",
            "count": 8089
           }
          ]
         }
        },
        {
         "name": "schedule_playoff",
         "dtype": "bool",
         "stats": {
          "unique_count": 2,
          "nan_count": 0,
          "categories": [
           {
            "name": "False",
            "count": 8800
           },
           {
            "name": "True",
            "count": 391
           }
          ]
         }
        },
        {
         "name": "team_home",
         "dtype": "object",
         "stats": {
          "unique_count": 41,
          "nan_count": 0,
          "categories": [
           {
            "name": "New England Patriots",
            "count": 320
           },
           {
            "name": "San Francisco 49ers",
            "count": 312
           },
           {
            "name": "39 others",
            "count": 8559
           }
          ]
         }
        },
        {
         "name": "score_home",
         "dtype": "float64",
         "stats": {
          "unique_count": 60,
          "nan_count": 0,
          "min": "0.0",
          "max": "62.0",
          "histogram": [
           {
            "bin_start": 0,
            "bin_end": 6.2,
            "count": 435
           },
           {
            "bin_start": 6.2,
            "bin_end": 12.4,
            "count": 901
           },
           {
            "bin_start": 12.4,
            "bin_end": 18.6,
            "count": 1849
           },
           {
            "bin_start": 18.6,
            "bin_end": 24.8,
            "count": 2370
           },
           {
            "bin_start": 24.8,
            "bin_end": 31,
            "count": 1526
           },
           {
            "bin_start": 31,
            "bin_end": 37.2,
            "count": 1292
           },
           {
            "bin_start": 37.2,
            "bin_end": 43.4,
            "count": 521
           },
           {
            "bin_start": 43.4,
            "bin_end": 49.6,
            "count": 219
           },
           {
            "bin_start": 49.6,
            "bin_end": 55.800000000000004,
            "count": 57
           },
           {
            "bin_start": 55.800000000000004,
            "bin_end": 62,
            "count": 21
           }
          ]
         }
        },
        {
         "name": "score_away",
         "dtype": "float64",
         "stats": {
          "unique_count": 55,
          "nan_count": 0,
          "min": "0.0",
          "max": "59.0",
          "histogram": [
           {
            "bin_start": 0,
            "bin_end": 5.9,
            "count": 482
           },
           {
            "bin_start": 5.9,
            "bin_end": 11.8,
            "count": 1412
           },
           {
            "bin_start": 11.8,
            "bin_end": 17.700000000000003,
            "count": 2208
           },
           {
            "bin_start": 17.700000000000003,
            "bin_end": 23.6,
            "count": 1736
           },
           {
            "bin_start": 23.6,
            "bin_end": 29.5,
            "count": 1605
           },
           {
            "bin_start": 29.5,
            "bin_end": 35.400000000000006,
            "count": 1095
           },
           {
            "bin_start": 35.400000000000006,
            "bin_end": 41.300000000000004,
            "count": 459
           },
           {
            "bin_start": 41.300000000000004,
            "bin_end": 47.2,
            "count": 141
           },
           {
            "bin_start": 47.2,
            "bin_end": 53.1,
            "count": 44
           },
           {
            "bin_start": 53.1,
            "bin_end": 59,
            "count": 9
           }
          ]
         }
        },
        {
         "name": "team_away",
         "dtype": "object",
         "stats": {
          "unique_count": 41,
          "nan_count": 0,
          "categories": [
           {
            "name": "Green Bay Packers",
            "count": 307
           },
           {
            "name": "Indianapolis Colts",
            "count": 304
           },
           {
            "name": "39 others",
            "count": 8580
           }
          ]
         }
        },
        {
         "name": "team_favorite_id",
         "dtype": "object",
         "stats": {
          "unique_count": 33,
          "nan_count": 0,
          "categories": [
           {
            "name": "NE",
            "count": 408
           },
           {
            "name": "PIT",
            "count": 386
           },
           {
            "name": "31 others",
            "count": 8397
           }
          ]
         }
        },
        {
         "name": "spread_favorite",
         "dtype": "float64",
         "stats": {
          "unique_count": 47,
          "nan_count": 0,
          "min": "-26.5",
          "max": "0.0",
          "histogram": [
           {
            "bin_start": -26.5,
            "bin_end": -23.85,
            "count": 3
           },
           {
            "bin_start": -23.85,
            "bin_end": -21.2,
            "count": 2
           },
           {
            "bin_start": -21.2,
            "bin_end": -18.55,
            "count": 11
           },
           {
            "bin_start": -18.55,
            "bin_end": -15.9,
            "count": 77
           },
           {
            "bin_start": -15.9,
            "bin_end": -13.25,
            "count": 279
           },
           {
            "bin_start": -13.25,
            "bin_end": -10.600000000000001,
            "count": 383
           },
           {
            "bin_start": -10.600000000000001,
            "bin_end": -7.949999999999999,
            "count": 1164
           },
           {
            "bin_start": -7.949999999999999,
            "bin_end": -5.300000000000001,
            "count": 2247
           },
           {
            "bin_start": -5.300000000000001,
            "bin_end": -2.650000000000002,
            "count": 3236
           },
           {
            "bin_start": -2.650000000000002,
            "bin_end": 0,
            "count": 1789
           }
          ]
         }
        },
        {
         "name": "over_under_line",
         "dtype": "float64"
        },
        {
         "name": "stadium",
         "dtype": "object"
        },
        {
         "name": "stadium_neutral",
         "dtype": "bool"
        },
        {
         "name": "weather_temperature",
         "dtype": "float64"
        },
        {
         "name": "weather_wind_mph",
         "dtype": "float64"
        },
        {
         "name": "weather_humidity",
         "dtype": "float64"
        },
        {
         "name": "weather_detail",
         "dtype": "object"
        },
        {
         "name": "total_points",
         "dtype": "float64"
        },
        {
         "name": "over_under_result",
         "dtype": "object"
        },
        {
         "name": "home_id",
         "dtype": "object"
        },
        {
         "name": "away_id",
         "dtype": "object"
        },
        {
         "name": "underdog_team_id",
         "dtype": "object"
        },
        {
         "name": "winning_team",
         "dtype": "object"
        },
        {
         "name": "losing_team",
         "dtype": "object"
        },
        {
         "name": "tying_team_home",
         "dtype": "object"
        },
        {
         "name": "tying_team_away",
         "dtype": "object"
        },
        {
         "name": "fav_or_dog_won",
         "dtype": "object"
        },
        {
         "name": "margin_of_victory",
         "dtype": "float64"
        },
        {
         "name": "spread_result",
         "dtype": "object"
        },
        {
         "name": "spread_winner",
         "dtype": "object"
        },
        {
         "name": "spread_loser",
         "dtype": "object"
        },
        {
         "name": "push_team_home",
         "dtype": "object"
        },
        {
         "name": "push_team_away",
         "dtype": "object"
        },
        {
         "name": "over_winner_home",
         "dtype": "object"
        },
        {
         "name": "over_winner_away",
         "dtype": "object"
        },
        {
         "name": "over_loser_home",
         "dtype": "object"
        },
        {
         "name": "over_loser_away",
         "dtype": "object"
        },
        {
         "name": "over_push_home",
         "dtype": "object"
        },
        {
         "name": "over_push_away",
         "dtype": "object"
        },
        {
         "name": "_deepnote_index_column",
         "dtype": "int64"
        }
       ],
       "rows": [
        {
         "schedule_date": "9/7/1986",
         "schedule_season": 1986,
         "schedule_week": "1",
         "schedule_playoff": false,
         "team_home": "Buffalo Bills",
         "score_home": 24,
         "score_away": 28,
         "team_away": "New York Jets",
         "team_favorite_id": "NYJ",
         "spread_favorite": -6,
         "over_under_line": 40,
         "stadium": "Ralph Wilson Stadium",
         "stadium_neutral": false,
         "weather_temperature": 56,
         "weather_wind_mph": 12,
         "weather_humidity": 61,
         "weather_detail": "nan",
         "total_points": 52,
         "over_under_result": "over",
         "home_id": "BUF",
         "away_id": "NYJ",
         "underdog_team_id": "BUF",
         "winning_team": "NYJ",
         "losing_team": "BUF",
         "tying_team_home": "nan",
         "tying_team_away": "nan",
         "fav_or_dog_won": "fav",
         "margin_of_victory": 4,
         "spread_result": "dog",
         "spread_winner": "BUF",
         "spread_loser": "NYJ",
         "push_team_home": "nan",
         "push_team_away": "nan",
         "over_winner_home": "BUF",
         "over_winner_away": "NYJ",
         "over_loser_home": "nan",
         "over_loser_away": "nan",
         "over_push_home": "nan",
         "over_push_away": "nan",
         "_deepnote_index_column": 4040
        },
        {
         "schedule_date": "9/7/1986",
         "schedule_season": 1986,
         "schedule_week": "1",
         "schedule_playoff": false,
         "team_home": "Chicago Bears",
         "score_home": 41,
         "score_away": 31,
         "team_away": "Cleveland Browns",
         "team_favorite_id": "CHI",
         "spread_favorite": -10.5,
         "over_under_line": 38,
         "stadium": "Soldier Field",
         "stadium_neutral": false,
         "weather_temperature": 55,
         "weather_wind_mph": 9,
         "weather_humidity": 56,
         "weather_detail": "nan",
         "total_points": 72,
         "over_under_result": "over",
         "home_id": "CHI",
         "away_id": "CLE",
         "underdog_team_id": "CLE",
         "winning_team": "CHI",
         "losing_team": "CLE",
         "tying_team_home": "nan",
         "tying_team_away": "nan",
         "fav_or_dog_won": "fav",
         "margin_of_victory": 10,
         "spread_result": "dog",
         "spread_winner": "CLE",
         "spread_loser": "CHI",
         "push_team_home": "nan",
         "push_team_away": "nan",
         "over_winner_home": "CHI",
         "over_winner_away": "CLE",
         "over_loser_home": "nan",
         "over_loser_away": "nan",
         "over_push_home": "nan",
         "over_push_away": "nan",
         "_deepnote_index_column": 4041
        },
        {
         "schedule_date": "9/7/1986",
         "schedule_season": 1986,
         "schedule_week": "1",
         "schedule_playoff": false,
         "team_home": "Denver Broncos",
         "score_home": 38,
         "score_away": 36,
         "team_away": "Los Angeles Raiders",
         "team_favorite_id": "DEN",
         "spread_favorite": -3,
         "over_under_line": 38.5,
         "stadium": "Mile High Stadium",
         "stadium_neutral": false,
         "weather_temperature": 49,
         "weather_wind_mph": 9,
         "weather_humidity": 81,
         "weather_detail": "nan",
         "total_points": 74,
         "over_under_result": "over",
         "home_id": "DEN",
         "away_id": "LVR",
         "underdog_team_id": "LVR",
         "winning_team": "DEN",
         "losing_team": "LVR",
         "tying_team_home": "nan",
         "tying_team_away": "nan",
         "fav_or_dog_won": "fav",
         "margin_of_victory": 2,
         "spread_result": "dog",
         "spread_winner": "LVR",
         "spread_loser": "DEN",
         "push_team_home": "nan",
         "push_team_away": "nan",
         "over_winner_home": "DEN",
         "over_winner_away": "LVR",
         "over_loser_home": "nan",
         "over_loser_away": "nan",
         "over_push_home": "nan",
         "over_push_away": "nan",
         "_deepnote_index_column": 4042
        },
        {
         "schedule_date": "9/7/1986",
         "schedule_season": 1986,
         "schedule_week": "1",
         "schedule_playoff": false,
         "team_home": "Green Bay Packers",
         "score_home": 3,
         "score_away": 31,
         "team_away": "Houston Oilers",
         "team_favorite_id": "GB",
         "spread_favorite": -4,
         "over_under_line": 41.5,
         "stadium": "Lambeau Field",
         "stadium_neutral": false,
         "weather_temperature": 48,
         "weather_wind_mph": 7,
         "weather_humidity": 64,
         "weather_detail": "nan",
         "total_points": 34,
         "over_under_result": "under",
         "home_id": "GB",
         "away_id": "TEN",
         "underdog_team_id": "TEN",
         "winning_team": "TEN",
         "losing_team": "GB",
         "tying_team_home": "nan",
         "tying_team_away": "nan",
         "fav_or_dog_won": "dog",
         "margin_of_victory": 28,
         "spread_result": "dog",
         "spread_winner": "TEN",
         "spread_loser": "GB",
         "push_team_home": "nan",
         "push_team_away": "nan",
         "over_winner_home": "nan",
         "over_winner_away": "nan",
         "over_loser_home": "GB",
         "over_loser_away": "TEN",
         "over_push_home": "nan",
         "over_push_away": "nan",
         "_deepnote_index_column": 4043
        },
        {
         "schedule_date": "9/7/1986",
         "schedule_season": 1986,
         "schedule_week": "1",
         "schedule_playoff": false,
         "team_home": "Kansas City Chiefs",
         "score_home": 24,
         "score_away": 14,
         "team_away": "Cincinnati Bengals",
         "team_favorite_id": "CIN",
         "spread_favorite": -1,
         "over_under_line": 47,
         "stadium": "Arrowhead Stadium",
         "stadium_neutral": false,
         "weather_temperature": 56,
         "weather_wind_mph": 11,
         "weather_humidity": 75,
         "weather_detail": "nan",
         "total_points": 38,
         "over_under_result": "under",
         "home_id": "KC",
         "away_id": "CIN",
         "underdog_team_id": "KC",
         "winning_team": "KC",
         "losing_team": "CIN",
         "tying_team_home": "nan",
         "tying_team_away": "nan",
         "fav_or_dog_won": "dog",
         "margin_of_victory": 10,
         "spread_result": "dog",
         "spread_winner": "KC",
         "spread_loser": "CIN",
         "push_team_home": "nan",
         "push_team_away": "nan",
         "over_winner_home": "nan",
         "over_winner_away": "nan",
         "over_loser_home": "KC",
         "over_loser_away": "CIN",
         "over_push_home": "nan",
         "over_push_away": "nan",
         "_deepnote_index_column": 4044
        },
        {
         "schedule_date": "9/7/1986",
         "schedule_season": 1986,
         "schedule_week": "1",
         "schedule_playoff": false,
         "team_home": "Minnesota Vikings",
         "score_home": 10,
         "score_away": 13,
         "team_away": "Detroit Lions",
         "team_favorite_id": "MIN",
         "spread_favorite": -3.5,
         "over_under_line": 42.5,
         "stadium": "Hubert H. Humphrey Metrodome",
         "stadium_neutral": false,
         "weather_temperature": 72,
         "weather_wind_mph": 0,
         "weather_humidity": "nan",
         "weather_detail": "DOME",
         "total_points": 23,
         "over_under_result": "under",
         "home_id": "MIN",
         "away_id": "DET",
         "underdog_team_id": "DET",
         "winning_team": "DET",
         "losing_team": "MIN",
         "tying_team_home": "nan",
         "tying_team_away": "nan",
         "fav_or_dog_won": "dog",
         "margin_of_victory": 3,
         "spread_result": "dog",
         "spread_winner": "DET",
         "spread_loser": "MIN",
         "push_team_home": "nan",
         "push_team_away": "nan",
         "over_winner_home": "nan",
         "over_winner_away": "nan",
         "over_loser_home": "MIN",
         "over_loser_away": "DET",
         "over_push_home": "nan",
         "over_push_away": "nan",
         "_deepnote_index_column": 4045
        },
        {
         "schedule_date": "9/7/1986",
         "schedule_season": 1986,
         "schedule_week": "1",
         "schedule_playoff": false,
         "team_home": "New England Patriots",
         "score_home": 33,
         "score_away": 3,
         "team_away": "Indianapolis Colts",
         "team_favorite_id": "NE",
         "spread_favorite": -9.5,
         "over_under_line": 42,
         "stadium": "Foxboro Stadium",
         "stadium_neutral": false,
         "weather_temperature": 65,
         "weather_wind_mph": 13,
         "weather_humidity": 54,
         "weather_detail": "nan",
         "total_points": 36,
         "over_under_result": "under",
         "home_id": "NE",
         "away_id": "IND",
         "underdog_team_id": "IND",
         "winning_team": "NE",
         "losing_team": "IND",
         "tying_team_home": "nan",
         "tying_team_away": "nan",
         "fav_or_dog_won": "fav",
         "margin_of_victory": 30,
         "spread_result": "fav",
         "spread_winner": "NE",
         "spread_loser": "IND",
         "push_team_home": "nan",
         "push_team_away": "nan",
         "over_winner_home": "nan",
         "over_winner_away": "nan",
         "over_loser_home": "NE",
         "over_loser_away": "IND",
         "over_push_home": "nan",
         "over_push_away": "nan",
         "_deepnote_index_column": 4046
        },
        {
         "schedule_date": "9/7/1986",
         "schedule_season": 1986,
         "schedule_week": "1",
         "schedule_playoff": false,
         "team_home": "New Orleans Saints",
         "score_home": 10,
         "score_away": 31,
         "team_away": "Atlanta Falcons",
         "team_favorite_id": "NO",
         "spread_favorite": -3.5,
         "over_under_line": 41,
         "stadium": "Louisiana Superdome",
         "stadium_neutral": false,
         "weather_temperature": 72,
         "weather_wind_mph": 0,
         "weather_humidity": "nan",
         "weather_detail": "DOME",
         "total_points": 41,
         "over_under_result": "push",
         "home_id": "NO",
         "away_id": "ATL",
         "underdog_team_id": "ATL",
         "winning_team": "ATL",
         "losing_team": "NO",
         "tying_team_home": "nan",
         "tying_team_away": "nan",
         "fav_or_dog_won": "dog",
         "margin_of_victory": 21,
         "spread_result": "dog",
         "spread_winner": "ATL",
         "spread_loser": "NO",
         "push_team_home": "nan",
         "push_team_away": "nan",
         "over_winner_home": "nan",
         "over_winner_away": "nan",
         "over_loser_home": "nan",
         "over_loser_away": "nan",
         "over_push_home": "NO",
         "over_push_away": "ATL",
         "_deepnote_index_column": 4047
        },
        {
         "schedule_date": "9/7/1986",
         "schedule_season": 1986,
         "schedule_week": "1",
         "schedule_playoff": false,
         "team_home": "San Diego Chargers",
         "score_home": 50,
         "score_away": 28,
         "team_away": "Miami Dolphins",
         "team_favorite_id": "MIA",
         "spread_favorite": -1,
         "over_under_line": 56,
         "stadium": "Qualcomm Stadium",
         "stadium_neutral": false,
         "weather_temperature": 68,
         "weather_wind_mph": 9,
         "weather_humidity": 82,
         "weather_detail": "nan",
         "total_points": 78,
         "over_under_result": "over",
         "home_id": "LAC",
         "away_id": "MIA",
         "underdog_team_id": "LAC",
         "winning_team": "LAC",
         "losing_team": "MIA",
         "tying_team_home": "nan",
         "tying_team_away": "nan",
         "fav_or_dog_won": "dog",
         "margin_of_victory": 22,
         "spread_result": "dog",
         "spread_winner": "LAC",
         "spread_loser": "MIA",
         "push_team_home": "nan",
         "push_team_away": "nan",
         "over_winner_home": "LAC",
         "over_winner_away": "MIA",
         "over_loser_home": "nan",
         "over_loser_away": "nan",
         "over_push_home": "nan",
         "over_push_away": "nan",
         "_deepnote_index_column": 4048
        },
        {
         "schedule_date": "9/7/1986",
         "schedule_season": 1986,
         "schedule_week": "1",
         "schedule_playoff": false,
         "team_home": "Seattle Seahawks",
         "score_home": 30,
         "score_away": 0,
         "team_away": "Pittsburgh Steelers",
         "team_favorite_id": "SEA",
         "spread_favorite": -6,
         "over_under_line": 42,
         "stadium": "Seattle Kingdome",
         "stadium_neutral": false,
         "weather_temperature": 72,
         "weather_wind_mph": 0,
         "weather_humidity": "nan",
         "weather_detail": "DOME",
         "total_points": 30,
         "over_under_result": "under",
         "home_id": "SEA",
         "away_id": "PIT",
         "underdog_team_id": "PIT",
         "winning_team": "SEA",
         "losing_team": "PIT",
         "tying_team_home": "nan",
         "tying_team_away": "nan",
         "fav_or_dog_won": "fav",
         "margin_of_victory": 30,
         "spread_result": "fav",
         "spread_winner": "SEA",
         "spread_loser": "PIT",
         "push_team_home": "nan",
         "push_team_away": "nan",
         "over_winner_home": "nan",
         "over_winner_away": "nan",
         "over_loser_home": "SEA",
         "over_loser_away": "PIT",
         "over_push_home": "nan",
         "over_push_away": "nan",
         "_deepnote_index_column": 4049
        }
       ]
      },
      "text/plain": "      schedule_date  schedule_season schedule_week  schedule_playoff  \\\n4040       9/7/1986             1986             1             False   \n4041       9/7/1986             1986             1             False   \n4042       9/7/1986             1986             1             False   \n4043       9/7/1986             1986             1             False   \n4044       9/7/1986             1986             1             False   \n...             ...              ...           ...               ...   \n13226     1/22/2022             2021      Division              True   \n13227     1/23/2022             2021      Division              True   \n13228     1/23/2022             2021      Division              True   \n13229     1/30/2022             2021    Conference              True   \n13230     1/30/2022             2021    Conference              True   \n\n                  team_home  score_home  score_away            team_away  \\\n4040          Buffalo Bills        24.0        28.0        New York Jets   \n4041          Chicago Bears        41.0        31.0     Cleveland Browns   \n4042         Denver Broncos        38.0        36.0  Los Angeles Raiders   \n4043      Green Bay Packers         3.0        31.0       Houston Oilers   \n4044     Kansas City Chiefs        24.0        14.0   Cincinnati Bengals   \n...                     ...         ...         ...                  ...   \n13226      Tennessee Titans        16.0        19.0   Cincinnati Bengals   \n13227    Kansas City Chiefs        42.0        36.0        Buffalo Bills   \n13228  Tampa Bay Buccaneers        27.0        30.0     Los Angeles Rams   \n13229    Kansas City Chiefs        24.0        27.0   Cincinnati Bengals   \n13230      Los Angeles Rams        20.0        17.0  San Francisco 49ers   \n\n      team_favorite_id  spread_favorite  ...  spread_winner spread_loser  \\\n4040               NYJ             -6.0  ...            BUF          NYJ   \n4041               CHI            -10.5  ...            CLE          CHI   \n4042               DEN             -3.0  ...            LVR          DEN   \n4043                GB             -4.0  ...            TEN           GB   \n4044               CIN             -1.0  ...             KC          CIN   \n...                ...              ...  ...            ...          ...   \n13226              TEN             -4.0  ...            CIN          TEN   \n13227               KC             -2.5  ...             KC          BUF   \n13228               TB             -3.0  ...            LAR           TB   \n13229               KC             -7.0  ...            CIN           KC   \n13230              LAR             -3.5  ...             SF          LAR   \n\n       push_team_home  push_team_away  over_winner_home  over_winner_away  \\\n4040              NaN             NaN               BUF               NYJ   \n4041              NaN             NaN               CHI               CLE   \n4042              NaN             NaN               DEN               LVR   \n4043              NaN             NaN               NaN               NaN   \n4044              NaN             NaN               NaN               NaN   \n...               ...             ...               ...               ...   \n13226             NaN             NaN               NaN               NaN   \n13227             NaN             NaN                KC               BUF   \n13228             NaN             NaN                TB               LAR   \n13229             NaN             NaN               NaN               NaN   \n13230             NaN             NaN               NaN               NaN   \n\n      over_loser_home  over_loser_away over_push_home over_push_away  \n4040              NaN              NaN            NaN            NaN  \n4041              NaN              NaN            NaN            NaN  \n4042              NaN              NaN            NaN            NaN  \n4043               GB              TEN            NaN            NaN  \n4044               KC              CIN            NaN            NaN  \n...               ...              ...            ...            ...  \n13226             TEN              CIN            NaN            NaN  \n13227             NaN              NaN            NaN            NaN  \n13228             NaN              NaN            NaN            NaN  \n13229              KC              CIN            NaN            NaN  \n13230             LAR               SF            NaN            NaN  \n\n[9191 rows x 39 columns]",
      "text/html": "<div>\n<style scoped>\n    .dataframe tbody tr th:only-of-type {\n        vertical-align: middle;\n    }\n\n    .dataframe tbody tr th {\n        vertical-align: top;\n    }\n\n    .dataframe thead th {\n        text-align: right;\n    }\n</style>\n<table border=\"1\" class=\"dataframe\">\n  <thead>\n    <tr style=\"text-align: right;\">\n      <th></th>\n      <th>schedule_date</th>\n      <th>schedule_season</th>\n      <th>schedule_week</th>\n      <th>schedule_playoff</th>\n      <th>team_home</th>\n      <th>score_home</th>\n      <th>score_away</th>\n      <th>team_away</th>\n      <th>team_favorite_id</th>\n      <th>spread_favorite</th>\n      <th>...</th>\n      <th>spread_winner</th>\n      <th>spread_loser</th>\n      <th>push_team_home</th>\n      <th>push_team_away</th>\n      <th>over_winner_home</th>\n      <th>over_winner_away</th>\n      <th>over_loser_home</th>\n      <th>over_loser_away</th>\n      <th>over_push_home</th>\n      <th>over_push_away</th>\n    </tr>\n  </thead>\n  <tbody>\n    <tr>\n      <th>4040</th>\n      <td>9/7/1986</td>\n      <td>1986</td>\n      <td>1</td>\n      <td>False</td>\n      <td>Buffalo Bills</td>\n      <td>24.0</td>\n      <td>28.0</td>\n      <td>New York Jets</td>\n      <td>NYJ</td>\n      <td>-6.0</td>\n      <td>...</td>\n      <td>BUF</td>\n      <td>NYJ</td>\n      <td>NaN</td>\n      <td>NaN</td>\n      <td>BUF</td>\n      <td>NYJ</td>\n      <td>NaN</td>\n      <td>NaN</td>\n      <td>NaN</td>\n      <td>NaN</td>\n    </tr>\n    <tr>\n      <th>4041</th>\n      <td>9/7/1986</td>\n      <td>1986</td>\n      <td>1</td>\n      <td>False</td>\n      <td>Chicago Bears</td>\n      <td>41.0</td>\n      <td>31.0</td>\n      <td>Cleveland Browns</td>\n      <td>CHI</td>\n      <td>-10.5</td>\n      <td>...</td>\n      <td>CLE</td>\n      <td>CHI</td>\n      <td>NaN</td>\n      <td>NaN</td>\n      <td>CHI</td>\n      <td>CLE</td>\n      <td>NaN</td>\n      <td>NaN</td>\n      <td>NaN</td>\n      <td>NaN</td>\n    </tr>\n    <tr>\n      <th>4042</th>\n      <td>9/7/1986</td>\n      <td>1986</td>\n      <td>1</td>\n      <td>False</td>\n      <td>Denver Broncos</td>\n      <td>38.0</td>\n      <td>36.0</td>\n      <td>Los Angeles Raiders</td>\n      <td>DEN</td>\n      <td>-3.0</td>\n      <td>...</td>\n      <td>LVR</td>\n      <td>DEN</td>\n      <td>NaN</td>\n      <td>NaN</td>\n      <td>DEN</td>\n      <td>LVR</td>\n      <td>NaN</td>\n      <td>NaN</td>\n      <td>NaN</td>\n      <td>NaN</td>\n    </tr>\n    <tr>\n      <th>4043</th>\n      <td>9/7/1986</td>\n      <td>1986</td>\n      <td>1</td>\n      <td>False</td>\n      <td>Green Bay Packers</td>\n      <td>3.0</td>\n      <td>31.0</td>\n      <td>Houston Oilers</td>\n      <td>GB</td>\n      <td>-4.0</td>\n      <td>...</td>\n      <td>TEN</td>\n      <td>GB</td>\n      <td>NaN</td>\n      <td>NaN</td>\n      <td>NaN</td>\n      <td>NaN</td>\n      <td>GB</td>\n      <td>TEN</td>\n      <td>NaN</td>\n      <td>NaN</td>\n    </tr>\n    <tr>\n      <th>4044</th>\n      <td>9/7/1986</td>\n      <td>1986</td>\n      <td>1</td>\n      <td>False</td>\n      <td>Kansas City Chiefs</td>\n      <td>24.0</td>\n      <td>14.0</td>\n      <td>Cincinnati Bengals</td>\n      <td>CIN</td>\n      <td>-1.0</td>\n      <td>...</td>\n      <td>KC</td>\n      <td>CIN</td>\n      <td>NaN</td>\n      <td>NaN</td>\n      <td>NaN</td>\n      <td>NaN</td>\n      <td>KC</td>\n      <td>CIN</td>\n      <td>NaN</td>\n      <td>NaN</td>\n    </tr>\n    <tr>\n      <th>...</th>\n      <td>...</td>\n      <td>...</td>\n      <td>...</td>\n      <td>...</td>\n      <td>...</td>\n      <td>...</td>\n      <td>...</td>\n      <td>...</td>\n      <td>...</td>\n      <td>...</td>\n      <td>...</td>\n      <td>...</td>\n      <td>...</td>\n      <td>...</td>\n      <td>...</td>\n      <td>...</td>\n      <td>...</td>\n      <td>...</td>\n      <td>...</td>\n      <td>...</td>\n      <td>...</td>\n    </tr>\n    <tr>\n      <th>13226</th>\n      <td>1/22/2022</td>\n      <td>2021</td>\n      <td>Division</td>\n      <td>True</td>\n      <td>Tennessee Titans</td>\n      <td>16.0</td>\n      <td>19.0</td>\n      <td>Cincinnati Bengals</td>\n      <td>TEN</td>\n      <td>-4.0</td>\n      <td>...</td>\n      <td>CIN</td>\n      <td>TEN</td>\n      <td>NaN</td>\n      <td>NaN</td>\n      <td>NaN</td>\n      <td>NaN</td>\n      <td>TEN</td>\n      <td>CIN</td>\n      <td>NaN</td>\n      <td>NaN</td>\n    </tr>\n    <tr>\n      <th>13227</th>\n      <td>1/23/2022</td>\n      <td>2021</td>\n      <td>Division</td>\n      <td>True</td>\n      <td>Kansas City Chiefs</td>\n      <td>42.0</td>\n      <td>36.0</td>\n      <td>Buffalo Bills</td>\n      <td>KC</td>\n      <td>-2.5</td>\n      <td>...</td>\n      <td>KC</td>\n      <td>BUF</td>\n      <td>NaN</td>\n      <td>NaN</td>\n      <td>KC</td>\n      <td>BUF</td>\n      <td>NaN</td>\n      <td>NaN</td>\n      <td>NaN</td>\n      <td>NaN</td>\n    </tr>\n    <tr>\n      <th>13228</th>\n      <td>1/23/2022</td>\n      <td>2021</td>\n      <td>Division</td>\n      <td>True</td>\n      <td>Tampa Bay Buccaneers</td>\n      <td>27.0</td>\n      <td>30.0</td>\n      <td>Los Angeles Rams</td>\n      <td>TB</td>\n      <td>-3.0</td>\n      <td>...</td>\n      <td>LAR</td>\n      <td>TB</td>\n      <td>NaN</td>\n      <td>NaN</td>\n      <td>TB</td>\n      <td>LAR</td>\n      <td>NaN</td>\n      <td>NaN</td>\n      <td>NaN</td>\n      <td>NaN</td>\n    </tr>\n    <tr>\n      <th>13229</th>\n      <td>1/30/2022</td>\n      <td>2021</td>\n      <td>Conference</td>\n      <td>True</td>\n      <td>Kansas City Chiefs</td>\n      <td>24.0</td>\n      <td>27.0</td>\n      <td>Cincinnati Bengals</td>\n      <td>KC</td>\n      <td>-7.0</td>\n      <td>...</td>\n      <td>CIN</td>\n      <td>KC</td>\n      <td>NaN</td>\n      <td>NaN</td>\n      <td>NaN</td>\n      <td>NaN</td>\n      <td>KC</td>\n      <td>CIN</td>\n      <td>NaN</td>\n      <td>NaN</td>\n    </tr>\n    <tr>\n      <th>13230</th>\n      <td>1/30/2022</td>\n      <td>2021</td>\n      <td>Conference</td>\n      <td>True</td>\n      <td>Los Angeles Rams</td>\n      <td>20.0</td>\n      <td>17.0</td>\n      <td>San Francisco 49ers</td>\n      <td>LAR</td>\n      <td>-3.5</td>\n      <td>...</td>\n      <td>SF</td>\n      <td>LAR</td>\n      <td>NaN</td>\n      <td>NaN</td>\n      <td>NaN</td>\n      <td>NaN</td>\n      <td>LAR</td>\n      <td>SF</td>\n      <td>NaN</td>\n      <td>NaN</td>\n    </tr>\n  </tbody>\n</table>\n<p>9191 rows × 39 columns</p>\n</div>"
     },
     "metadata": {}
    }
   ]
  },
  {
   "cell_type": "code",
   "metadata": {
    "cell_id": "ca1b20cbbec74e20bd05a278fc4ab32f",
    "tags": [],
    "deepnote_to_be_reexecuted": false,
    "source_hash": "b03f83d0",
    "execution_start": 1651118930255,
    "execution_millis": 258,
    "deepnote_cell_type": "code",
    "deepnote_cell_height": 81
   },
   "source": "games.to_csv('games.csv')",
   "execution_count": 16,
   "outputs": []
  },
  {
   "cell_type": "markdown",
   "source": "<a style='text-decoration:none;line-height:16px;display:flex;color:#5B5B62;padding:10px;justify-content:end;' href='https://deepnote.com?utm_source=created-in-deepnote-cell&projectId=edd70093-bbe4-4f95-a99a-f731d544cc85' target=\"_blank\">\n<img alt='Created in deepnote.com' style='display:inline;max-height:16px;margin:0px;margin-right:7.5px;' src='data:image/svg+xml;base64,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' > </img>\nCreated in <span style='font-weight:600;margin-left:4px;'>Deepnote</span></a>",
   "metadata": {
    "tags": [],
    "created_in_deepnote_cell": true,
    "deepnote_cell_type": "markdown"
   }
  }
 ],
 "nbformat": 4,
 "nbformat_minor": 2,
 "metadata": {
  "orig_nbformat": 2,
  "deepnote": {},
  "deepnote_notebook_id": "7b15c63b-b4e8-4ec4-b5e8-dbe6e1725cfb",
  "deepnote_execution_queue": []
 }
}